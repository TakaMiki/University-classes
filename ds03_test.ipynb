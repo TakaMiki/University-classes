{
 "cells": [
  {
   "cell_type": "code",
   "execution_count": null,
   "metadata": {},
   "outputs": [],
   "source": [
    "# google colab では、このブロックの下3行のコメントアウトを外して実行\n",
    "# !pip install --upgrade scipy\n",
    "# import scipy\n",
    "# print(scipy.__version__)"
   ]
  },
  {
   "cell_type": "code",
   "execution_count": 1,
   "metadata": {},
   "outputs": [
    {
     "name": "stdout",
     "output_type": "stream",
     "text": [
      "t値 -1.560009076442849\n",
      "p値 0.073523746952664\n"
     ]
    }
   ],
   "source": [
    "# scipy ライブラリを利用した1標本t検定(両側/片側検定)\n",
    "#\n",
    "# scipy.stats.ttest_1samp \n",
    "# 独立した観測値のサンプル(blood_pressure_samples)の期待値(平均)が、\n",
    "# 指定された母集団の平均(popmean)に等しいという帰無仮説の検定\n",
    "# alternative で 両側 two-sided, 下側 less, 上側  greater を指定\n",
    "# 返り値： t : t値  p : p値\n",
    "import numpy as np\n",
    "import scipy.stats as stats\n",
    "\n",
    "# 投与前後の血圧測定値の差のリストを作成\n",
    "blood_pressure_samples = np.array([\n",
    "    2, -5, -4, -8, 3, 0, 3, -6, -2, 1, 0, -4\n",
    "])\n",
    "\n",
    "# 「母集団平均がゼロに等しい(効果なし)」という帰無仮説を片側(下側)検定\n",
    "t, p = stats.ttest_1samp(blood_pressure_samples, \n",
    "                               popmean=0, alternative='less')\n",
    "print('t値', t)\n",
    "print('p値', p)"
   ]
  },
  {
   "cell_type": "code",
   "execution_count": 4,
   "metadata": {},
   "outputs": [
    {
     "name": "stdout",
     "output_type": "stream",
     "text": [
      "t値 -1.560009076442849 p値 0.073523746952664\n"
     ]
    }
   ],
   "source": [
    "# 投与前後の血圧測定値のリストを作成\n",
    "before = np.array([140, 145, 152, 143, 165, 139, 153, 144, 148, 135, 137, 149])\n",
    "after  = np.array([142, 140, 148, 135, 168, 139, 156, 138, 146, 136, 137, 145])\n",
    "\n",
    "# scipy.stats.ttest_rel\n",
    "# 「前後(対応がある2標本間)で差がゼロ(効果なし)」という帰無仮説を片側(下側)検定\n",
    "t, p = stats.ttest_rel(after, before, alternative='less')\n",
    "print('t値', t, 'p値', p)"
   ]
  },
  {
   "cell_type": "code",
   "execution_count": 7,
   "metadata": {},
   "outputs": [
    {
     "name": "stdout",
     "output_type": "stream",
     "text": [
      "t値 -0.25502921417084706 p値 0.40085982629580497\n"
     ]
    }
   ],
   "source": [
    "# ２つのリストを作成\n",
    "a = np.array([142, 140, 148, 135, 168, 139, 156, 138, 146, 136])\n",
    "b = np.array([140, 145, 152, 143, 165, 139, 153, 144, 148, 135, 137, 149])\n",
    "\n",
    "#  scipy.stats.ttest_ind\n",
    "# 「前後(対応がない2標本間)で差がゼロ(効果なし)」という帰無仮説を片側(下側)検定\n",
    "# equal_var : True 2標本の分散が等しいと仮定、False 2標本の分散が等しくないと仮定\n",
    "t, p = stats.ttest_ind(a, b, equal_var=False, alternative='less')\n",
    "print('t値', t, 'p値', p)"
   ]
  },
  {
   "cell_type": "code",
   "execution_count": 12,
   "metadata": {},
   "outputs": [
    {
     "name": "stdout",
     "output_type": "stream",
     "text": [
      "Power_divergenceResult(statistic=0.4700239808153477, pvalue=0.925425895103616)\n"
     ]
    }
   ],
   "source": [
    "# メンデルの法則のカイ２乗検定\n",
    "observed = np.array([315, 101, 108, 32])  # 観測度数\n",
    "expected = np.array([312.75, 104.25, 104.25, 34.75]) # 理論度数\n",
    "\n",
    "# scipy.stats.chisquare\n",
    "# 観測度数と理論度数のカイ２乗値の計算\n",
    "result = stats.chisquare(observed, expected)\n",
    "print(result)"
   ]
  }
 ],
 "metadata": {
  "interpreter": {
   "hash": "7124204e1f7976fec48cdf030ee2e0f4899492e3907c2367d19bbaef2afd4824"
  },
  "kernelspec": {
   "display_name": "Python 3.9.7 ('venv': venv)",
   "language": "python",
   "name": "python3"
  },
  "language_info": {
   "codemirror_mode": {
    "name": "ipython",
    "version": 3
   },
   "file_extension": ".py",
   "mimetype": "text/x-python",
   "name": "python",
   "nbconvert_exporter": "python",
   "pygments_lexer": "ipython3",
   "version": "3.9.7"
  },
  "orig_nbformat": 4
 },
 "nbformat": 4,
 "nbformat_minor": 2
}
