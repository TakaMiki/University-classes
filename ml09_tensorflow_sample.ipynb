{
 "cells": [
  {
   "cell_type": "markdown",
   "metadata": {},
   "source": [
    "* ML09 ニューラルネットワーク\n",
    "  * tensorflow をインストールする\n",
    "  * Google Colab はインストール済み"
   ]
  },
  {
   "cell_type": "code",
   "execution_count": 1,
   "metadata": {},
   "outputs": [
    {
     "name": "stdout",
     "output_type": "stream",
     "text": [
      "2.6.5\n",
      "[PhysicalDevice(name='/physical_device:GPU:0', device_type='GPU')]\n"
     ]
    }
   ],
   "source": [
    "import tensorflow as tf\n",
    "import numpy as np\n",
    "import matplotlib.pyplot as plt\n",
    "\n",
    "print(tf.__version__)\n",
    "print(tf.config.list_physical_devices('GPU'))"
   ]
  },
  {
   "cell_type": "code",
   "execution_count": 4,
   "metadata": {},
   "outputs": [
    {
     "name": "stdout",
     "output_type": "stream",
     "text": [
      "Model: \"or_model\"\n",
      "_________________________________________________________________\n",
      "Layer (type)                 Output Shape              Param #   \n",
      "=================================================================\n",
      "dense_1 (Dense)              (None, 2)                 6         \n",
      "_________________________________________________________________\n",
      "dense_2 (Dense)              (None, 2)                 6         \n",
      "=================================================================\n",
      "Total params: 12\n",
      "Trainable params: 12\n",
      "Non-trainable params: 0\n",
      "_________________________________________________________________\n",
      "[[0. 0.]\n",
      " [1. 0.]\n",
      " [1. 1.]\n",
      " [0. 1.]]\n",
      "[[7.4597783e-02 9.2540216e-01]\n",
      " [9.9243861e-01 7.5614052e-03]\n",
      " [9.9999392e-01 6.0751531e-06]\n",
      " [9.9067944e-01 9.3205525e-03]]\n",
      "Wall time: 12.1 s\n"
     ]
    },
    {
     "data": {
      "image/png": "[encoded data removed]",
      "text/plain": [
       "<Figure size 432x288 with 1 Axes>"
      ]
     },
     "metadata": {
      "needs_background": "light"
     },
     "output_type": "display_data"
    }
   ],
   "source": [
    "%%time\n",
    "# 論理和を学習するためのデータを準備\n",
    "x = np.array([[0.0, 0.0], [1.0, 0.0], [1.0, 1.0], [0.0, 1.0]])  # x1 と x2 の入力を 4パターン準備\n",
    "y = np.array([[0.0, 1.0], [1.0, 0.0], [1.0, 0.0], [1.0, 0.0]])  # True/False の出力を準備\n",
    "\n",
    "# ニューラルネットワークのモデルを作成 (サマリを表示)\n",
    "or_model = tf.keras.models.Sequential(name='or_model') # ニューラルネットワークのモデルの箱を用意、add でレイヤ(層)等を順に追加していく\n",
    "or_model.add(tf.keras.Input(shape=(2,))) # 2入力の入力層\n",
    "or_model.add(tf.keras.layers.Dense(units=2, activation='relu')) # セル2個の中間層を用意、活性化関数は relu\n",
    "or_model.add(tf.keras.layers.Dense(units=2, activation='softmax')) # セル2個の出力層を用意、活性化関数はソフトマックス\n",
    "or_model.summary()  # 作成したモデルの中身を表示\n",
    "\n",
    "# 学習時の設定を行い、学習を実施 (学習中のlossの変化をグラフで表示)\n",
    "or_model.compile(loss='categorical_crossentropy', optimizer='sgd', metrics=['accuracy'])  # 学習時の損失関数、最適化関数、評価関数を設定\n",
    "history = or_model.fit(x, y, epochs=5000, verbose=0) # fit関数で学習を実施 (verbose= 1 or 2 とすると学習中のlossを表示)\n",
    "plt.plot(history.history['loss']) # 学習中のlossの変化をグラフで表示\n",
    "\n",
    "# 学習で利用したデータと、モデルで推測した結果を表示\n",
    "print(x)\n",
    "print(or_model.predict(x, verbose=0))"
   ]
  }
 ],
 "metadata": {
  "kernelspec": {
   "display_name": "Python 3.9.9 ('venv': venv)",
   "language": "python",
   "name": "python3"
  },
  "language_info": {
   "codemirror_mode": {
    "name": "ipython",
    "version": 3
   },
   "file_extension": ".py",
   "mimetype": "text/x-python",
   "name": "python",
   "nbconvert_exporter": "python",
   "pygments_lexer": "ipython3",
   "version": "3.9.7"
  },
  "orig_nbformat": 4,
  "vscode": {
   "interpreter": {
    "hash": "18ef0afcf35f1452430268c7ef685ac367525865953635d3b087fb3264879c09"
   }
  }
 },
 "nbformat": 4,
 "nbformat_minor": 2
}
