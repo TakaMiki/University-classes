{
 "cells": [
  {
   "attachments": {},
   "cell_type": "markdown",
   "metadata": {},
   "source": [
    "* 機械学習特論 第13回 自然言語処理と知識表現\n",
    "* 単語ベクトルの実験の日本語版\n",
    "  * サンプルコードは https://self-development.info/chive%E3%82%92word2vec%E3%81%AE%E5%AD%A6%E7%BF%92%E6%B8%88%E3%81%BF%E6%97%A5%E6%9C%AC%E8%AA%9E%E3%83%A2%E3%83%87%E3%83%AB%E3%81%A8%E3%81%97%E3%81%A6%E5%88%A9%E7%94%A8%E3%81%99%E3%82%8B/ を引用\n",
    "* 言語モデルは chive を利用\n",
    "  * https://github.com/WorksApplications/chiVe"
   ]
  },
  {
   "cell_type": "code",
   "execution_count": null,
   "metadata": {},
   "outputs": [],
   "source": [
    "# google colab では、以下のコメントアウトを外して実行する\n",
    "#!pip install gensim\n",
    "\n",
    "# google colab では、以下のコメントアウトを外して言語モデルをダウンロードして、tar.gz を展開\n",
    "# 自分のPCで実行する場合は、適宜コマンドを変更して実行して\n",
    "!wget https://sudachi.s3-ap-northeast-1.amazonaws.com/chive/chive-1.2-mc90_gensim.tar.gz\n",
    "!tar xvfz chive-1.2-mc90_gensim.tar.gz"
   ]
  },
  {
   "cell_type": "code",
   "execution_count": 1,
   "metadata": {},
   "outputs": [
    {
     "name": "stdout",
     "output_type": "stream",
     "text": [
      "4.3.0\n"
     ]
    }
   ],
   "source": [
    "# ライブラリをインポート\n",
    "import gensim\n",
    "print(gensim.__version__)"
   ]
  },
  {
   "cell_type": "code",
   "execution_count": 5,
   "metadata": {},
   "outputs": [],
   "source": [
    "# 学習済みのモデルを読み込む (ファイルが見つからない場合は、ls コマンド等を使ってファイルを確認する)\n",
    "# chiVeデータのPATH（kv:KeyedVectors）\n",
    "model_path = \"chive-1.2-mc90_gensim/chive-1.2-mc90.kv\"\n",
    "# モデルの読み込み\n",
    "wv = gensim.models.KeyedVectors.load(model_path)"
   ]
  },
  {
   "cell_type": "code",
   "execution_count": null,
   "metadata": {},
   "outputs": [],
   "source": [
    "print('王-男性+女性=', wv.most_similar(positive=['王', '女性'], negative=['男性']))\n",
    "# 王-男性+女性= [('王様', 0.5949668288230896), ('王女', 0.5724015831947327), ('王妃', 0.5537911057472229), ('女王', 0.5343506932258606),  ..."
   ]
  },
  {
   "cell_type": "code",
   "execution_count": null,
   "metadata": {},
   "outputs": [],
   "source": [
    "print('暑い-寒い+冬=', wv.most_similar(positive=['暑い', '冬'], negative=['寒い']))\n",
    "# 暑い-寒い+冬= [('唐辛子', 0.49635568261146545), ('胡椒', 0.4887256622314453), ('調味料', 0.48813727498054504), ..."
   ]
  },
  {
   "cell_type": "code",
   "execution_count": null,
   "metadata": {},
   "outputs": [],
   "source": [
    "print('先生-学校+病院=', wv.most_similar(positive=['先生', '病院'], negative=['学校']))\n",
    "# 先生-学校+病院= [('院長', 0.6401411294937134), ('内科', 0.6357675790786743), ('担当医', 0.628521203994751), ..."
   ]
  },
  {
   "cell_type": "code",
   "execution_count": null,
   "metadata": {},
   "outputs": [],
   "source": [
    "print('仙台-宮城+岩手=', wv.most_similar(positive=['仙台', '岩手'], negative=['宮城']))\n",
    "# 仙台-宮城+岩手= [('盛岡', 0.7853071093559265), ('秋田', 0.6885939836502075), ('青森', 0.6691376566886902), ..."
   ]
  },
  {
   "cell_type": "code",
   "execution_count": null,
   "metadata": {},
   "outputs": [],
   "source": [
    "print('砂糖-甘い+辛い=', wv.most_similar(positive=['砂糖', '辛い'], negative=['甘い']))\n",
    "# 砂糖-甘い+辛い= [('唐辛子', 0.49635568261146545), ('胡椒', 0.4887256622314453), ('調味料', 0.48813727498054504), ..."
   ]
  }
 ],
 "metadata": {
  "kernelspec": {
   "display_name": "venv",
   "language": "python",
   "name": "python3"
  },
  "language_info": {
   "codemirror_mode": {
    "name": "ipython",
    "version": 3
   },
   "file_extension": ".py",
   "mimetype": "text/x-python",
   "name": "python",
   "nbconvert_exporter": "python",
   "pygments_lexer": "ipython3",
   "version": "3.9.7 (tags/v3.9.7:1016ef3, Aug 30 2021, 20:19:38) [MSC v.1929 64 bit (AMD64)]"
  },
  "orig_nbformat": 4,
  "vscode": {
   "interpreter": {
    "hash": "18ef0afcf35f1452430268c7ef685ac367525865953635d3b087fb3264879c09"
   }
  }
 },
 "nbformat": 4,
 "nbformat_minor": 2
}
