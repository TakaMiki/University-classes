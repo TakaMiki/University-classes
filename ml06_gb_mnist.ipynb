{
 "cells": [
  {
   "cell_type": "markdown",
   "metadata": {},
   "source": [
    "機械学習特論 第6回 勾配ブースティング で mnist を分類"
   ]
  },
  {
   "cell_type": "code",
   "execution_count": 1,
   "metadata": {},
   "outputs": [],
   "source": [
    "# google colab で実行する場合は、次の行の先頭の # を削除してこのブロックを実行する\n",
    "#!pip install japanize-matplotlib"
   ]
  },
  {
   "cell_type": "code",
   "execution_count": 1,
   "metadata": {},
   "outputs": [],
   "source": [
    "import numpy as np\n",
    "import pandas as pd\n",
    "import matplotlib.pyplot as plt\n",
    "import seaborn as sns\n",
    "from sklearn.model_selection import train_test_split\n",
    "from sklearn.ensemble import GradientBoostingClassifier\n",
    "from sklearn import metrics"
   ]
  },
  {
   "cell_type": "code",
   "execution_count": 2,
   "metadata": {},
   "outputs": [],
   "source": [
    "from sklearn.datasets import fetch_openml\n",
    "# 手書き文字のデータセットをダウンロードして、実験用データを準備 (70000枚のうち7000枚を利用)\n",
    "mnist_data = fetch_openml('mnist_784', version=1)\n",
    "_x = np.array(mnist_data['data'].astype(np.float32))\n",
    "_y = np.array(mnist_data['target'].astype(np.int32))\n",
    "_, x, _, y = train_test_split(_x, _y, test_size=0.1, random_state=1)"
   ]
  },
  {
   "cell_type": "code",
   "execution_count": 3,
   "metadata": {},
   "outputs": [
    {
     "name": "stdout",
     "output_type": "stream",
     "text": [
      "x_train:5250 x_test:1750 y_train:5250 y_test:1750\n"
     ]
    }
   ],
   "source": [
    "# データを学習用と検証用に分割\n",
    "x_train, x_test, y_train, y_test = \\\n",
    "    train_test_split(x, y, test_size=0.25, random_state=2) # 検証用データに25%を割当て\n",
    "print(f'x_train:{len(x_train)} x_test:{len(x_test)} y_train:{len(y_train)} y_test:{len(y_test)}')"
   ]
  },
  {
   "cell_type": "code",
   "execution_count": 6,
   "metadata": {},
   "outputs": [
    {
     "name": "stdout",
     "output_type": "stream",
     "text": [
      "max_depth=5, accuracy_score:  train data :  1.0 test data :  0.92686\n"
     ]
    }
   ],
   "source": [
    "# 学習データを利用して勾配ブースティングを学習\n",
    "clf = GradientBoostingClassifier(max_depth=5, # 木の深さの最大を設定\n",
    "                                 random_state=1) # 乱数シード\n",
    "clf = clf.fit(x_train, y_train)\n",
    "\n",
    "# 学習したモデルの性能(正答率)を学習用データと検証用データで評価\n",
    "predict_train = clf.predict(x_train)\n",
    "predict_test = clf.predict(x_test)\n",
    "print('max_depth=5, accuracy_score: ', \n",
    "      f'train data : {metrics.accuracy_score(y_train, predict_train): 0.5}', \n",
    "      f'test data : {metrics.accuracy_score(y_test, predict_test): 0.5}')"
   ]
  },
  {
   "cell_type": "code",
   "execution_count": 8,
   "metadata": {},
   "outputs": [
    {
     "name": "stdout",
     "output_type": "stream",
     "text": [
      "GB n_estimators=20, accuracy_score:  train data :  0.98857 test data :  0.89486\n",
      "GB n_estimators=40, accuracy_score:  train data :  1.0 test data :  0.90743\n",
      "GB n_estimators=60, accuracy_score:  train data :  1.0 test data :  0.91429\n",
      "GB n_estimators=80, accuracy_score:  train data :  1.0 test data :  0.91943\n",
      "GB n_estimators=100, accuracy_score:  train data :  1.0 test data :  0.92686\n",
      "GB n_estimators=120, accuracy_score:  train data :  1.0 test data :  0.92571\n",
      "GB n_estimators=140, accuracy_score:  train data :  1.0 test data :  0.92743\n",
      "GB n_estimators=160, accuracy_score:  train data :  1.0 test data :  0.92914\n",
      "GB n_estimators=180, accuracy_score:  train data :  1.0 test data :  0.928\n",
      "GB n_estimators=200, accuracy_score:  train data :  1.0 test data :  0.92971\n"
     ]
    }
   ],
   "source": [
    "# 木の数を変えて学習したアダブーストの性能を学習用データと検証用データで確認\n",
    "N = 10\n",
    "_x = np.linspace(20, N*20, N) # グラフのx軸の設定 (1から7までの7点)\n",
    "dct_train_score = [] # グラフ用のリスト\n",
    "dct_test_score = []\n",
    "adb_train_score = [] # グラフ用のリスト\n",
    "adb_test_score = [] \n",
    "for i in range(N):\n",
    "    # 学習データを利用して勾配ブースティングを学習\n",
    "    clf = GradientBoostingClassifier(max_depth=5,  # 木の深さの最大を設定\n",
    "                                     n_estimators=(i+1)*20, # 木の数は20ずつ増やして性能を計測\n",
    "                                     random_state=1) # 乱数シード\n",
    "    clf = clf.fit(x_train, y_train) \n",
    "\n",
    "    # 学習したモデルの性能(正答率)を学習用データと検証用データで評価\n",
    "    predict_train = clf.predict(x_train)\n",
    "    adb_train_score.append(metrics.accuracy_score(y_train, predict_train))\n",
    "    predict_test = clf.predict(x_test)\n",
    "    adb_test_score.append(metrics.accuracy_score(y_test, predict_test))\n",
    "    print(f'GB n_estimators={(i+1)*20}, accuracy_score: ', \n",
    "            f'train data : {adb_train_score[i]: 0.5}', \n",
    "            f'test data : {adb_test_score[i]: 0.5}')"
   ]
  },
  {
   "cell_type": "code",
   "execution_count": 10,
   "metadata": {},
   "outputs": [
    {
     "data": {
      "image/png": "[encoded data removed]",
      "text/plain": [
       "<Figure size 720x432 with 1 Axes>"
      ]
     },
     "metadata": {
      "needs_background": "light"
     },
     "output_type": "display_data"
    }
   ],
   "source": [
    "# 木の深さに対する決定木の性能をグラフで表示\n",
    "plt.figure(figsize=[10,6])\n",
    "plt.plot(_x, adb_train_score, label='adb_train_score', color=\"blue\")\n",
    "plt.plot(_x, adb_test_score, label='adb_test_score', color=\"orange\")\n",
    "plt.xlabel('n_estimator')\n",
    "plt.ylabel('accuracy')\n",
    "plt.xticks(_x)\n",
    "plt.legend()\n",
    "plt.show()"
   ]
  }
 ],
 "metadata": {
  "kernelspec": {
   "display_name": "Python 3.9.7 ('venv': venv)",
   "language": "python",
   "name": "python3"
  },
  "language_info": {
   "codemirror_mode": {
    "name": "ipython",
    "version": 3
   },
   "file_extension": ".py",
   "mimetype": "text/x-python",
   "name": "python",
   "nbconvert_exporter": "python",
   "pygments_lexer": "ipython3",
   "version": "3.9.7"
  },
  "orig_nbformat": 4,
  "vscode": {
   "interpreter": {
    "hash": "18ef0afcf35f1452430268c7ef685ac367525865953635d3b087fb3264879c09"
   }
  }
 },
 "nbformat": 4,
 "nbformat_minor": 2
}
