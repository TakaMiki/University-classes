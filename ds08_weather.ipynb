{
 "cells": [
  {
   "cell_type": "code",
   "execution_count": null,
   "metadata": {},
   "outputs": [],
   "source": [
    "# google colab で実行する場合は以下のコメントアウトを外して実行\n",
    "# # ! wget https://raw.githubusercontent.com/KHiraGit/sudspg_ds/main/ds08_kumagaya_weather_2020.csv\n",
    "\n",
    "# その他の環境で実行する場合は、データファイルとノートブックを同じフォルダにおいて実行"
   ]
  },
  {
   "cell_type": "code",
   "execution_count": 3,
   "metadata": {},
   "outputs": [],
   "source": [
    "# 利用するライブラリをインポート\n",
    "import matplotlib.pyplot as plt\n",
    "import pandas as pd\n",
    "import statsmodels.api as sm\n",
    "import numpy as np"
   ]
  },
  {
   "cell_type": "code",
   "execution_count": 7,
   "metadata": {},
   "outputs": [
    {
     "name": "stdout",
     "output_type": "stream",
     "text": [
      "                           Logit Regression Results                           \n",
      "==============================================================================\n",
      "Dep. Variable:                      y   No. Observations:                  366\n",
      "Model:                          Logit   Df Residuals:                      364\n",
      "Method:                           MLE   Df Model:                            1\n",
      "Date:                Thu, 02 Jun 2022   Pseudo R-squ.:                  0.5087\n",
      "Time:                        10:30:05   Log-Likelihood:                -112.67\n",
      "converged:                       True   LL-Null:                       -229.34\n",
      "Covariance Type:            nonrobust   LLR p-value:                 1.109e-52\n",
      "==============================================================================\n",
      "                 coef    std err          z      P>|z|      [0.025      0.975]\n",
      "------------------------------------------------------------------------------\n",
      "const        -15.4431      1.638     -9.427      0.000     -18.654     -12.232\n",
      "x1             0.1975      0.021      9.290      0.000       0.156       0.239\n",
      "==============================================================================\n"
     ]
    }
   ],
   "source": [
    "# 2020年熊谷の気象データのデータフレームに読み込む (ヘッダありファイル)\n",
    "kumagaya_weather_df = pd.read_csv('ds08_kumagaya_weather_2020.csv')\n",
    "x = np.sort(kumagaya_weather_df['ave_humidity'].values)\n",
    "y = kumagaya_weather_df['rain'].values[np.argsort(kumagaya_weather_df['ave_humidity'].values)]\n",
    "x_added_constant = sm.add_constant(x)  # 回帰計算のために定数項の列を追加\n",
    "\n",
    "# モデルを推定して、結果を表示\n",
    "logit_model = sm.Logit(y, x_added_constant)\n",
    "logit_result = logit_model.fit(disp=0)\n",
    "y_pred = logit_model.predict(logit_result.params)\n",
    "print(logit_result.summary())"
   ]
  },
  {
   "cell_type": "code",
   "execution_count": 6,
   "metadata": {},
   "outputs": [
    {
     "data": {
      "image/png": "[encoded data removed]",
      "text/plain": [
       "<Figure size 432x288 with 1 Axes>"
      ]
     },
     "metadata": {
      "needs_background": "light"
     },
     "output_type": "display_data"
    }
   ],
   "source": [
    "# 推定結果をグラフで表示\n",
    "plt.scatter(x, y)\n",
    "plt.plot(x.ravel(), y_pred, c='orange')\n",
    "# plt.plot(_x, _y, c='red')\n",
    "plt.xlim(0,120)\n",
    "plt.ylim(-0.2, 1.1)\n",
    "plt.grid(axis='y')\n",
    "plt.show()"
   ]
  },
  {
   "cell_type": "code",
   "execution_count": null,
   "metadata": {},
   "outputs": [],
   "source": []
  }
 ],
 "metadata": {
  "interpreter": {
   "hash": "18ef0afcf35f1452430268c7ef685ac367525865953635d3b087fb3264879c09"
  },
  "kernelspec": {
   "display_name": "Python 3.9.7 ('venv': venv)",
   "language": "python",
   "name": "python3"
  },
  "language_info": {
   "codemirror_mode": {
    "name": "ipython",
    "version": 3
   },
   "file_extension": ".py",
   "mimetype": "text/x-python",
   "name": "python",
   "nbconvert_exporter": "python",
   "pygments_lexer": "ipython3",
   "version": "3.9.7"
  }
 },
 "nbformat": 4,
 "nbformat_minor": 2
}
