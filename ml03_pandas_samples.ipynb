{
 "cells": [
  {
   "cell_type": "code",
   "execution_count": null,
   "metadata": {},
   "outputs": [],
   "source": [
    "# google colab で実行する場合は、次の行の先頭の # を削除してこのブロックを実行する\n",
    "#!wget https://raw.githubusercontent.com/KHiraGit/sudspg_ds/main/ml03_df.xlsx"
   ]
  },
  {
   "cell_type": "code",
   "execution_count": null,
   "metadata": {},
   "outputs": [],
   "source": [
    "import pandas as pd\n",
    "import openpyxl"
   ]
  },
  {
   "cell_type": "code",
   "execution_count": null,
   "metadata": {},
   "outputs": [],
   "source": [
    "# read_excel関数でエクセルのワークシートをデータフレームに読み込む\n",
    "# index_col=0を指定すると0列目(A列)がデータのインデックスとして利用される\n",
    "df_sample = pd.read_excel('ml03_df.xlsx', sheet_name='df_sample', index_col=0)\n",
    "df_sample  # jupyterではこの行でデータフレームの内容を表示"
   ]
  },
  {
   "cell_type": "code",
   "execution_count": null,
   "metadata": {},
   "outputs": [],
   "source": [
    "# データフレームの情報を取得\n",
    "print('行数と列数', df_sample.shape)\n",
    "print('インデックス', df_sample.index)\n",
    "print('列名', df_sample.columns)"
   ]
  },
  {
   "cell_type": "code",
   "execution_count": null,
   "metadata": {},
   "outputs": [],
   "source": [
    "# データフレームの先頭(1行目)を表示\n",
    "df_sample.head(1)"
   ]
  },
  {
   "cell_type": "code",
   "execution_count": null,
   "metadata": {},
   "outputs": [],
   "source": [
    "# データフレームの末尾(1行目)を表示\n",
    "df_sample.tail(1)"
   ]
  },
  {
   "cell_type": "code",
   "execution_count": null,
   "metadata": {},
   "outputs": [],
   "source": [
    "# 特定の1行を表示\n",
    "df_sample.loc['サンドイッチ']"
   ]
  },
  {
   "cell_type": "code",
   "execution_count": null,
   "metadata": {},
   "outputs": [],
   "source": [
    "# 特定の複数行を表示\n",
    "df_sample.loc[['サンドイッチ', 'おむすび']]  # 指定した順に表示される"
   ]
  },
  {
   "cell_type": "code",
   "execution_count": null,
   "metadata": {},
   "outputs": [],
   "source": [
    "# 条件を満たす行を表示\n",
    "df_sample[df_sample['price'] < 500] "
   ]
  },
  {
   "cell_type": "code",
   "execution_count": null,
   "metadata": {},
   "outputs": [],
   "source": [
    "# 複数の条件を満たす行を表示\n",
    "# 各条件は括弧で囲む、条件のANDは &, OR は | を使う\n",
    "df_sample[(df_sample['price'] > 500) & (df_sample['cal'] > 500)] "
   ]
  },
  {
   "cell_type": "code",
   "execution_count": null,
   "metadata": {},
   "outputs": [],
   "source": [
    "# 特定の1列を表示\n",
    "df_sample['price']"
   ]
  },
  {
   "cell_type": "code",
   "execution_count": null,
   "metadata": {},
   "outputs": [],
   "source": [
    "# 特定の複数列を表示\n",
    "df_sample[['cal', 'price']]  # 指定した順に表示される"
   ]
  },
  {
   "cell_type": "code",
   "execution_count": null,
   "metadata": {},
   "outputs": [],
   "source": [
    "# 特定の行を削除\n",
    "df_sample.drop(['ナポリタン'], axis=0)"
   ]
  },
  {
   "cell_type": "code",
   "execution_count": null,
   "metadata": {},
   "outputs": [],
   "source": [
    "# 上記で削除しても元のデータフレームはそのまま\n",
    "# (削除したデータフレームを使う場合は、新たな変数に代入する)\n",
    "df_sample"
   ]
  },
  {
   "cell_type": "code",
   "execution_count": null,
   "metadata": {},
   "outputs": [],
   "source": [
    "# 特定の行を削除 (削除後のデータフレームを新たな変数に代入)\n",
    "df_dropped = df_sample.drop(['cal'], axis=1)\n",
    "df_dropped"
   ]
  },
  {
   "cell_type": "code",
   "execution_count": null,
   "metadata": {},
   "outputs": [],
   "source": [
    "# 上記で削除しても元のデータフレームはそのまま\n",
    "df_sample"
   ]
  },
  {
   "cell_type": "code",
   "execution_count": null,
   "metadata": {},
   "outputs": [],
   "source": [
    "# 統計量を計算\n",
    "print('合計', df_sample['price'].sum())\n",
    "print('平均', df_sample['price'].mean())\n",
    "print('中央値', df_sample['price'].median())\n",
    "print('最小値', df_sample['price'].min())\n",
    "print('最大値', df_sample['price'].max())\n",
    "print('標準偏差', df_sample['price'].std())\n",
    "print('分散', df_sample['price'].var())"
   ]
  },
  {
   "cell_type": "code",
   "execution_count": null,
   "metadata": {},
   "outputs": [],
   "source": [
    "# 基本統計量を表示\n",
    "print('基本統計量')\n",
    "df_sample.describe()"
   ]
  },
  {
   "cell_type": "code",
   "execution_count": null,
   "metadata": {},
   "outputs": [],
   "source": [
    "# 元のデータフレームを表示\n",
    "df_sample"
   ]
  },
  {
   "cell_type": "code",
   "execution_count": null,
   "metadata": {},
   "outputs": [],
   "source": [
    "# ダミー変数化したデータフレームを表示\n",
    "pd.get_dummies(df_sample, drop_first=False)"
   ]
  },
  {
   "cell_type": "code",
   "execution_count": null,
   "metadata": {},
   "outputs": [],
   "source": [
    "# [参考] データフレームはプログラム中でも作成可能 (下はその一例)\n",
    "df_sample2 = pd.DataFrame([[300, 500], [200, 300]], index=['ハンバーガー', 'フライドポテト'], columns=['price', 'cal'])\n",
    "df_sample2"
   ]
  },
  {
   "cell_type": "code",
   "execution_count": null,
   "metadata": {},
   "outputs": [],
   "source": [
    "### データフレームの結合(1) 同じ属性を持つデータを結合 ###\n",
    "# エクセルファイルのシートをpandasのデータフレームに読み込む\n",
    "df_c1 = pd.read_excel('ml03_df.xlsx', sheet_name='c1')\n",
    "df_c2 = pd.read_excel('ml03_df.xlsx', sheet_name='c2')\n",
    "# データフレームを結合(同じ属性(列)にデータを追加)\n",
    "df_c3 = pd.concat([df_c1, df_c2])\n",
    "# 結合した結果をエクセルファイルのシートに出力 (すでにシートがある場合は上書きする)\n",
    "with pd.ExcelWriter('ml03_df.xlsx', mode='a', if_sheet_exists='replace') as writer:\n",
    "    df_c3.to_excel(writer, sheet_name='c3')"
   ]
  },
  {
   "cell_type": "code",
   "execution_count": null,
   "metadata": {},
   "outputs": [],
   "source": [
    "### データフレームの結合(2) 同じキーを持つデータを結合 ###\n",
    "# エクセルファイルのシートをpandasのデータフレームに読み込む\n",
    "df_m1 = pd.read_excel('ml03_df.xlsx', sheet_name='m1')\n",
    "df_m2 = pd.read_excel('ml03_df.xlsx', sheet_name='m2')\n",
    "# データフレームを結合(同じキー(行)にデータを追加)\n",
    "df_m3 = pd.merge(df_m1, df_m2, on='key')\n",
    "# 結合した結果をエクセルファイルのシートに出力\n",
    "with pd.ExcelWriter('ml03_df.xlsx', mode='a', if_sheet_exists='replace') as writer:\n",
    "    df_m3.to_excel(writer, sheet_name='m3')"
   ]
  },
  {
   "cell_type": "code",
   "execution_count": null,
   "metadata": {},
   "outputs": [],
   "source": [
    "### データフレームの結合(3) キーが共通のデータの属性を結合 ###\n",
    "# エクセルファイルのシートをpandasのデータフレームに読み込む\n",
    "df_j1 = pd.read_excel('ml03_df.xlsx', sheet_name='j1')\n",
    "df_j2 = pd.read_excel('ml03_df.xlsx', sheet_name='j2')\n",
    "# データフレームを結合(キーが共通のデータの属性を結合)\n",
    "df_j3_1 = pd.merge(df_j1, df_j2, left_on='key', right_on='key')\n",
    "# 結合した結果をエクセルファイルのシートに出力\n",
    "with pd.ExcelWriter('ml03_df.xlsx', mode='a', if_sheet_exists='replace') as writer:\n",
    "    df_j3_1.to_excel(writer, sheet_name='j3_1')"
   ]
  },
  {
   "cell_type": "code",
   "execution_count": null,
   "metadata": {},
   "outputs": [],
   "source": [
    "### データフレームの結合(4) 左のキーのみを利用して属性を結合\n",
    "# エクセルファイルのシートをpandasのデータフレームに読み込む\n",
    "df_j1 = pd.read_excel('ml03_df.xlsx', sheet_name='j1')\n",
    "df_j2 = pd.read_excel('ml03_df.xlsx', sheet_name='j2')\n",
    "# データフレームを結合(左のキーのみを利用して属性を結合)\n",
    "df_j3_2 = pd.merge(df_j1, df_j2, left_on='key', right_on='key', how='left')\n",
    "with pd.ExcelWriter('ml03_df.xlsx', mode='a', if_sheet_exists='replace') as writer:\n",
    "    df_j3_2.to_excel(writer, sheet_name='j3_2')"
   ]
  },
  {
   "cell_type": "code",
   "execution_count": null,
   "metadata": {},
   "outputs": [],
   "source": [
    "### データフレームの結合(5) 右のキーのみを利用して属性を結合 ###\n",
    "# エクセルファイルのシートをpandasのデータフレームに読み込む\n",
    "df_j1 = pd.read_excel('ml03_df.xlsx', sheet_name='j1')\n",
    "df_j2 = pd.read_excel('ml03_df.xlsx', sheet_name='j2')\n",
    "# データフレームを結合(右のキーのみを利用して属性を結合)\n",
    "df_j3_3 = pd.merge(df_j1, df_j2, left_on='key', right_on='key', how='right')\n",
    "with pd.ExcelWriter('ml03_df.xlsx', mode='a', if_sheet_exists='replace') as writer:\n",
    "    df_j3_3.to_excel(writer, sheet_name='j3_3')"
   ]
  },
  {
   "cell_type": "code",
   "execution_count": null,
   "metadata": {},
   "outputs": [],
   "source": [
    "### データフレームの結合(6) 両方のキーの和を利用して属性を結合 ###\n",
    "# エクセルファイルのシートをpandasのデータフレームに読み込む\n",
    "df_j1 = pd.read_excel('ml03_df.xlsx', sheet_name='j1')\n",
    "df_j2 = pd.read_excel('ml03_df.xlsx', sheet_name='j2')\n",
    "# データフレームを結合(両方のキーの和を利用して属性を結合)\n",
    "df_j3_4 = pd.merge(df_j1, df_j2, left_on='key', right_on='key', how='outer')\n",
    "with pd.ExcelWriter('ml03_df.xlsx', mode='a', if_sheet_exists='replace') as writer:\n",
    "    df_j3_4.to_excel(writer, sheet_name='j3_4')"
   ]
  },
  {
   "cell_type": "code",
   "execution_count": null,
   "metadata": {},
   "outputs": [],
   "source": [
    "df_n = pd.read_excel('ml03_df.xlsx', sheet_name='n')\n",
    "print('## 0) オリジナルデータ')\n",
    "print(df_n)\n",
    "print('## 1) リストワイズ削除')\n",
    "print(df_n.dropna(axis=0))\n",
    "print('## 2) ペアワイズ削除')\n",
    "print(df_n.dropna(axis=1))\n",
    "print('## 3) 代表値(平均)を挿入')\n",
    "print(df_n.fillna(df_n.mean()))\n",
    "print('## 4) 前後の値で線形補間')\n",
    "print(df_n.interpolate())"
   ]
  },
  {
   "cell_type": "markdown",
   "metadata": {},
   "source": [
    "### ■ 練習問題 ■\n",
    "\n",
    "エクセルファイル ml03_df.xlsx のワークシート saitama_temp_202308 には、2023年8月各日のさいたま市の平均気温・最高気温・最低気温が格納されています。次のコードブロックを使い、下の問題に答えてください。(答えはWebClassに登録してください)\n",
    "\n",
    "1. 平均気温の平均\n",
    "2. 最高気温の最高\n",
    "3. 最低気温が25度以上、最高気温が35度以上の日の日数"
   ]
  },
  {
   "cell_type": "code",
   "execution_count": null,
   "metadata": {},
   "outputs": [],
   "source": [
    "# エクセルファイルとワークシートの確認\n",
    "df_temp = pd.read_excel('ml03_df.xlsx', sheet_name='saitama_temp_202308', index_col=0)\n",
    "df_temp.head()"
   ]
  },
  {
   "cell_type": "code",
   "execution_count": null,
   "metadata": {},
   "outputs": [],
   "source": [
    "#1. 平均気温の平均 \n",
    "# (WebClassには四捨五入して小数第１位までを登録)\n"
   ]
  },
  {
   "cell_type": "code",
   "execution_count": null,
   "metadata": {},
   "outputs": [],
   "source": [
    "#2. 最高気温の最高\n"
   ]
  },
  {
   "cell_type": "code",
   "execution_count": null,
   "metadata": {},
   "outputs": [],
   "source": [
    "#3. 最低気温が25度以上、最高気温が35度以上の日の日数\n"
   ]
  },
  {
   "cell_type": "code",
   "execution_count": null,
   "metadata": {},
   "outputs": [],
   "source": []
  }
 ],
 "metadata": {
  "interpreter": {
   "hash": "18ef0afcf35f1452430268c7ef685ac367525865953635d3b087fb3264879c09"
  },
  "kernelspec": {
   "display_name": "Python 3.9.9 ('venv': venv)",
   "language": "python",
   "name": "python3"
  },
  "language_info": {
   "codemirror_mode": {
    "name": "ipython",
    "version": 3
   },
   "file_extension": ".py",
   "mimetype": "text/x-python",
   "name": "python",
   "nbconvert_exporter": "python",
   "pygments_lexer": "ipython3",
   "version": "3.9.9"
  },
  "orig_nbformat": 4
 },
 "nbformat": 4,
 "nbformat_minor": 2
}
