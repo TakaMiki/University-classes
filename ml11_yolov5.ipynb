{
  "cells": [
    {
      "cell_type": "markdown",
      "metadata": {
        "id": "6nhmdtM4MiJ4"
      },
      "source": [
        "* YOLO v5で物体検出と学習をする方法　Google Colabで動作 より\n",
        "* https://laid-back-scientist.com/yolo-v5\n",
        "* google colab で実行する前にランタイプを GPU に変更"
      ]
    },
    {
      "cell_type": "code",
      "execution_count": null,
      "metadata": {
        "colab": {
          "base_uri": "https://localhost:8080/"
        },
        "id": "vwSNb_GJMep3",
        "outputId": "c33723af-bc26-4d2b-e871-825fab629d85"
      },
      "outputs": [],
      "source": [
        "!git clone https://github.com/ultralytics/yolov5\n",
        "%cd /content/yolov5/\n",
        "!pip install -qr requirements.txt\n",
        "!pip install -U imageio"
      ]
    },
    {
      "cell_type": "code",
      "execution_count": null,
      "metadata": {
        "colab": {
          "base_uri": "https://localhost:8080/"
        },
        "id": "QWvs4vjaOFzU",
        "outputId": "bfa75116-6b35-4abb-804c-5ec984887f06"
      },
      "outputs": [],
      "source": [
        "!wget https://github.com/ultralytics/yolov5/raw/master/data/images/bus.jpg\n",
        "!python detect.py --source bus.jpg --weights yolov5s.pt --conf 0.3 --name demo --exist-ok"
      ]
    },
    {
      "cell_type": "code",
      "execution_count": null,
      "metadata": {
        "colab": {
          "base_uri": "https://localhost:8080/",
          "height": 556
        },
        "id": "7D1UwuMROQ6v",
        "outputId": "ae248553-2d7c-4e5a-d736-b5f5f0744ec8"
      },
      "outputs": [],
      "source": [
        "import glob\n",
        "import matplotlib.pyplot as plt\n",
        "import numpy as np\n",
        "import cv2\n",
        "files = glob.glob('runs/detect/demo/*')\n",
        "for file in files:\n",
        "  print(file)\n",
        "  plt.imshow(cv2.cvtColor(cv2.imread(file), cv2.COLOR_BGR2RGB))\n",
        "  plt.show()"
      ]
    }
  ],
  "metadata": {
    "accelerator": "GPU",
    "colab": {
      "provenance": []
    },
    "gpuClass": "standard",
    "kernelspec": {
      "display_name": "venv",
      "language": "python",
      "name": "python3"
    },
    "language_info": {
      "name": "python",
      "version": "3.9.7 (tags/v3.9.7:1016ef3, Aug 30 2021, 20:19:38) [MSC v.1929 64 bit (AMD64)]"
    },
    "vscode": {
      "interpreter": {
        "hash": "18ef0afcf35f1452430268c7ef685ac367525865953635d3b087fb3264879c09"
      }
    }
  },
  "nbformat": 4,
  "nbformat_minor": 0
}
