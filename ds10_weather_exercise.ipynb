{
 "cells": [
  {
   "attachments": {},
   "cell_type": "markdown",
   "metadata": {},
   "source": [
    "データサイエンス特別PG データサイエンス特論 第10回 課題"
   ]
  },
  {
   "cell_type": "code",
   "execution_count": null,
   "metadata": {},
   "outputs": [],
   "source": [
    "# google colab で実行する場合は下記のコメントアウトを外して実行する\n",
    "# ! wget https://github.com/KHiraGit/sudspg_ds/raw/main/ds07_temp_power_exercise.xlsx\n",
    "# ! pip install japanize-matplotlib"
   ]
  },
  {
   "cell_type": "code",
   "execution_count": null,
   "metadata": {},
   "outputs": [],
   "source": [
    "import matplotlib\n",
    "import matplotlib.pyplot as plt\n",
    "import japanize_matplotlib\n",
    "import numpy as np\n",
    "import pandas as pd\n",
    "import datetime\n",
    "import sklearn\n",
    "import openpyxl\n",
    "from sklearn.tree import DecisionTreeClassifier, plot_tree\n",
    "from sklearn.ensemble  import RandomForestClassifier\n",
    "from sklearn.metrics import f1_score\n",
    "import seaborn as sns"
   ]
  },
  {
   "cell_type": "code",
   "execution_count": null,
   "metadata": {},
   "outputs": [],
   "source": [
    "weather_df = pd.read_excel('ds07_temp_power_exercise.xlsx', \n",
    "                           sheet_name='2020熊谷市気象データ_data', skiprows=[0,1,2],\n",
    "                           names=['年月日', '平均気温', '', '', '最高気温', '', '', '', '', '最低気温', '', '', '', '', \n",
    "                           '降水量', '', '', '', '日照時間', '', '', '', '降雪量', '', '', '', '平均風速', '', '', \n",
    "                           '平均蒸気圧', '', '', '平均湿度', '', '', '平均現地気圧', '', '', '', '', '', '天気概況', '', ''])\n",
    "\n",
    "year = 2020\n",
    "month = 1\n",
    "data = ['平均気温', '最高気温', '最低気温', '降水量', '日照時間', '降雪量', '平均風速', '平均蒸気圧', '平均湿度', '平均現地気圧'] \n",
    "target = '天気概況'\n",
    "weather_data = weather_df[(datetime.datetime(year,month,1) <= weather_df['年月日']) \n",
    "                        & (weather_df['年月日'] < datetime.datetime(year,month+1,1))][data].values\n",
    "weather_target = weather_df[(datetime.datetime(year,month,1) <= weather_df['年月日']) \n",
    "                            & (weather_df['年月日'] < datetime.datetime(year,month+1,1))][target].values"
   ]
  },
  {
   "cell_type": "code",
   "execution_count": null,
   "metadata": {},
   "outputs": [],
   "source": [
    "_max_depth = 3\n",
    "clf = DecisionTreeClassifier(criterion='entropy', max_depth=_max_depth)\n",
    "clf = clf.fit(weather_data, weather_target)\n",
    "print(f'max_depth={_max_depth}')\n",
    "print('f1_score:', f1_score(weather_target, clf.predict(weather_data), average=\"micro\"))\n",
    "plt.figure(figsize=(15, 10))\n",
    "plot_tree(clf, filled=True, feature_names=data, class_names=weather_target, fontsize=12)\n",
    "plt.show()"
   ]
  },
  {
   "cell_type": "code",
   "execution_count": null,
   "metadata": {},
   "outputs": [],
   "source": [
    "# ランダムフォレストを作成してF値を計算 (木の数、木の深さはグリッドサーチ)\n",
    "best_f1_score = 0\n",
    "best_estimator = 0\n",
    "best_depth = 0\n",
    "best_params = []\n",
    "_heatmap = []\n",
    "for _depth in range(1,6):\n",
    "    _heatmap_row = []\n",
    "    for _estimator in range(1,51):\n",
    "        rf = RandomForestClassifier(n_estimators=_estimator, max_depth=_depth, random_state=1)\n",
    "        rf = rf.fit(weather_data, weather_target)\n",
    "        _f1_score = f1_score(weather_target, rf.predict(weather_data), average=\"micro\")\n",
    "        _heatmap_row.append(_f1_score)\n",
    "        if _f1_score > best_f1_score:\n",
    "            best_f1_score = _f1_score\n",
    "            best_estimator = _estimator\n",
    "            best_depth = _depth\n",
    "            if _f1_score == 1.0:\n",
    "                best_params.append([_estimator, _depth])\n",
    "    _heatmap.append(_heatmap_row)\n",
    "\n",
    "print(f'best n_estimators={best_estimator}')\n",
    "print(f'best depth={best_depth}')\n",
    "print(f'best f1_score={best_f1_score}')\n",
    "print(f'params of f1_score=1.0 -> {best_params}')"
   ]
  },
  {
   "cell_type": "code",
   "execution_count": null,
   "metadata": {},
   "outputs": [],
   "source": [
    "# 説明変数の重要度をグラフに出力\n",
    "rf = RandomForestClassifier(n_estimators=best_estimator, max_depth=best_depth, random_state=1)\n",
    "rf = rf.fit(weather_data, weather_target)\n",
    "importances = rf.feature_importances_\n",
    "plt.figure(figsize=(12, 5))\n",
    "plt.barh(range(len(data)), rf.feature_importances_ , align='center')\n",
    "plt.yticks(np.arange(len(data)), data)\n",
    "plt.show()"
   ]
  },
  {
   "cell_type": "code",
   "execution_count": null,
   "metadata": {},
   "outputs": [],
   "source": []
  }
 ],
 "metadata": {
  "kernelspec": {
   "display_name": "Python 3.9.7 ('venv': venv)",
   "language": "python",
   "name": "python3"
  },
  "language_info": {
   "codemirror_mode": {
    "name": "ipython",
    "version": 3
   },
   "file_extension": ".py",
   "mimetype": "text/x-python",
   "name": "python",
   "nbconvert_exporter": "python",
   "pygments_lexer": "ipython3",
   "version": "3.9.7"
  },
  "orig_nbformat": 4,
  "vscode": {
   "interpreter": {
    "hash": "18ef0afcf35f1452430268c7ef685ac367525865953635d3b087fb3264879c09"
   }
  }
 },
 "nbformat": 4,
 "nbformat_minor": 2
}
