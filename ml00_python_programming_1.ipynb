{
 "cells": [
  {
   "cell_type": "markdown",
   "metadata": {},
   "source": [
    "python プログラミングの基本 (ml00 python programming )"
   ]
  },
  {
   "cell_type": "markdown",
   "metadata": {},
   "source": [
    "1. 変数\n",
    "\n",
    "* プログラミングでデータや何かを記録しておくための仕組みで、何かを記録し、その記録を取り出すことができます。\n",
    "* 変数には名前を付け、プログラムの中で管理します。\n",
    "   * 名前には、アルファベット(小文字・大文字)、数字(0-9)、記号のアンダースコア(_)が使えますが、数字から始めることはできません。\n",
    "   * `if` や `for` や `print` など、python で使われる単語(予約語)は使えません。\n",
    "   * 新しいバージョンの python では日本語の文字も変数名に使えますが、まだ一般的ではありません。\n",
    "* 次のような形式で記述します。\n",
    "   * `変数` と `var` が変数、= によって右辺の式や値が変数に代入されます。\n",
    "```\n",
    "変数 = 式\n",
    "var = 100\n",
    "```"
   ]
  },
  {
   "cell_type": "code",
   "execution_count": null,
   "metadata": {},
   "outputs": [],
   "source": [
    "# ここは Notebook のコードブロックで、ここにプログラムを記述します\n",
    "# (各行の # 以降が、コメント部となり、実行されません(プログラムの結果に影響しません))\n",
    "\n",
    "# (変数) = (式)\n",
    "var = 100  # 変数 var に 100 を代入します\n",
    "\n",
    "print(var)  # print 関数を使って、変数 var の値を表示します\n",
    "\n",
    "var  # Notebook 中の最後の式の値が、print 関数なしで表示されます"
   ]
  },
  {
   "cell_type": "markdown",
   "metadata": {},
   "source": [
    "* 変数は、代入式の右辺で型が決まります。"
   ]
  },
  {
   "cell_type": "code",
   "execution_count": null,
   "metadata": {},
   "outputs": [],
   "source": [
    "a = 100\n",
    "print(type(a), a)\n",
    "\n",
    "b = 123.45\n",
    "print(type(b), b)\n",
    "\n",
    "c = 3 + 4j\n",
    "print(type(c), c)\n",
    "\n",
    "d = 'Hello'\n",
    "print(type(d), d)\n",
    "e = \"world\"\n",
    "print(type(e), e)\n",
    "\n",
    "f = [1, 2, 3, 4]\n",
    "print(type(f), f)\n",
    "g = [1, 2.1, 3+4j, \"abcd\"]\n",
    "print(type(g), g)\n",
    "\n",
    "h = {1: 1, 'a': 'a', 'c': 3+4j}\n",
    "print(type(h), h)\n",
    "\n",
    "i = (1 == 1)\n",
    "print(type(i), i)\n",
    "j = (2 == 1)\n",
    "print(type(j), j)"
   ]
  },
  {
   "cell_type": "markdown",
   "metadata": {},
   "source": [
    "2. 関数・モジュール\n",
    "\n",
    "* python では、あらかじめ用意された関数と、import でインポートしたモジュールの関数と、自分で作成した関数が使えます。\n",
    "   * 関数は次の形式で使います ->  `関数名(引数1, 引数2, ...)`  \n",
    "   ＜関数は「呼び出す」、関数の結果は「戻り値」といいます。＞\n",
    "   * import は次の形式で行います -> `import math`  \n",
    "   ＜import では別名がつけられます -> `import numpy as np`＞\n",
    "   * `def 関数名:` で、自分の関数を作成することができます  \n",
    "   ＜関数の中身は、同じ文字数分、インデント(字下げ)します。＞"
   ]
  },
  {
   "cell_type": "code",
   "execution_count": null,
   "metadata": {},
   "outputs": [],
   "source": [
    "abs(-100)  # あらかじめ用意されている abs関数で絶対値を計算します"
   ]
  },
  {
   "cell_type": "code",
   "execution_count": null,
   "metadata": {},
   "outputs": [],
   "source": [
    "import math\n",
    "math.sqrt(2)  # mathモジュールの sqrt関数で平方根を計算します"
   ]
  },
  {
   "cell_type": "code",
   "execution_count": null,
   "metadata": {},
   "outputs": [],
   "source": [
    "def add_a_b(a, b):  # 2つの引数の和を返す関数を作成\n",
    "    return a + b\n",
    "\n",
    "add_a_b(100, 200)  # 作成した関数を呼び出す"
   ]
  },
  {
   "cell_type": "markdown",
   "metadata": {},
   "source": [
    "3. 条件分岐\n",
    "\n",
    "* `if` を使うことで、条件の評価結果により、処理を分岐させることができます。\n",
    "   * 条件は `<` や `>` などの比較演算子、真偽を返す関数を使って指定します。\n",
    "   * 分岐は、`if` と `elif` と `else` で指定します。\n",
    "\n",
    "* 条件の例"
   ]
  },
  {
   "cell_type": "code",
   "execution_count": null,
   "metadata": {},
   "outputs": [],
   "source": [
    "10 == 10"
   ]
  },
  {
   "cell_type": "code",
   "execution_count": null,
   "metadata": {},
   "outputs": [],
   "source": [
    "10 > 20"
   ]
  },
  {
   "cell_type": "code",
   "execution_count": null,
   "metadata": {},
   "outputs": [],
   "source": [
    "'abc' == 'abc'"
   ]
  },
  {
   "cell_type": "code",
   "execution_count": null,
   "metadata": {},
   "outputs": [],
   "source": [
    "'abc' < 'def'"
   ]
  },
  {
   "cell_type": "markdown",
   "metadata": {},
   "source": [
    "* 条件分岐の例"
   ]
  },
  {
   "cell_type": "code",
   "execution_count": null,
   "metadata": {},
   "outputs": [],
   "source": [
    "a = 1\n",
    "if a == 1:  \n",
    "    print('a = 1')  # a が 1 の場合は a = 1 と出力\n",
    "else:\n",
    "    print('a != 1')  # a が 1 でない場合は a != 1 と出力"
   ]
  },
  {
   "cell_type": "code",
   "execution_count": null,
   "metadata": {},
   "outputs": [],
   "source": [
    "b = 2\n",
    "if b == 1:\n",
    "    print('b = 1')  # b が 1 の場合は b = 1 と出力\n",
    "else:\n",
    "    print('b != 1')  # b が 1 でない場合は b != 1 と出力"
   ]
  },
  {
   "cell_type": "markdown",
   "metadata": {},
   "source": [
    "4. while文による繰り返し\n",
    "\n",
    "* while 文は、条件式の結果が True (真) であるあいだ、処理を繰り返して実行します。"
   ]
  },
  {
   "cell_type": "code",
   "execution_count": null,
   "metadata": {},
   "outputs": [],
   "source": [
    "a = 1  # 変数 a を用意し、1 を代入\n",
    "\n",
    "while a < 5:  # 変数 a が 5 未満の間、繰り返し処理を行う\n",
    "    print(a)  # 変数 a の値を出力する\n",
    "    a = a + 1  # 変数 a に 1 を足す\n",
    "\n",
    "print('while loop end')  # while ループが終了 と出力"
   ]
  },
  {
   "cell_type": "markdown",
   "metadata": {},
   "source": [
    "5. for文による繰り返し\n",
    "\n",
    "* for 文では、in で指定されたリストの要素を一つずつ取り出し、それぞれの要素について処理を行うことができます。"
   ]
  },
  {
   "cell_type": "code",
   "execution_count": null,
   "metadata": {},
   "outputs": [],
   "source": [
    "sum = 0  # 合計値を計算するための変数を用意\n",
    "for item in [1, 2, 3, 4, 5, 6, 7, 8, 9, 10]:\n",
    "    sum = sum + item  # リストの要素を合計値に足す\n",
    "\n",
    "print(sum)  # 合計値の計算結果を出力"
   ]
  },
  {
   "cell_type": "code",
   "execution_count": null,
   "metadata": {},
   "outputs": [],
   "source": [
    "sum = 0  # 合計値を計算するための変数を用意\n",
    "for item in range(1, 11, 1):  # range 関数からのリストを利用\n",
    "    sum = sum + item  # リストの要素を合計値に足す\n",
    "\n",
    "print(sum)  # 合計値の計算結果を出力"
   ]
  },
  {
   "cell_type": "code",
   "execution_count": null,
   "metadata": {},
   "outputs": [],
   "source": [
    "concat = ''  # 結果を保存するための変数を用意\n",
    "for item in ['a', 'i', 'u', 'e', 'o']:  # 文字のリストを用意\n",
    "    concat = concat + item  # 文字を後ろに追加\n",
    "\n",
    "print(concat)  # 文字を結合した結果を出力"
   ]
  }
 ],
 "metadata": {
  "kernelspec": {
   "display_name": "Python 3.9.9 ('venv': venv)",
   "language": "python",
   "name": "python3"
  },
  "language_info": {
   "codemirror_mode": {
    "name": "ipython",
    "version": 3
   },
   "file_extension": ".py",
   "mimetype": "text/x-python",
   "name": "python",
   "nbconvert_exporter": "python",
   "pygments_lexer": "ipython3",
   "version": "3.9.7"
  },
  "orig_nbformat": 4,
  "vscode": {
   "interpreter": {
    "hash": "18ef0afcf35f1452430268c7ef685ac367525865953635d3b087fb3264879c09"
   }
  }
 },
 "nbformat": 4,
 "nbformat_minor": 2
}
