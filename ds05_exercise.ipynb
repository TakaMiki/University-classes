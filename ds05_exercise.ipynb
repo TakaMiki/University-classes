{
 "cells": [
  {
   "cell_type": "code",
   "execution_count": null,
   "metadata": {},
   "outputs": [],
   "source": [
    "# google colab の場合は、下のコメントをアウトを外し、エクセルファイルをダウンロード\n",
    "#!wget https://www.nstac.go.jp/sys/files/SSDSE-B-2024.xlsx"
   ]
  },
  {
   "cell_type": "code",
   "execution_count": null,
   "metadata": {},
   "outputs": [],
   "source": [
    "# openpyxl ライブラリをインストールしておくこと (pip install openpyxl / conda install openppyxl 等)\n",
    "import pandas as pd\n",
    "\n",
    "# エクセル形式のデータファイル SSDSE-B-2024 をデータフレーム ssdse_b_df に読み込み、先頭5行を表示\n",
    "ssdse_b_df = pd.read_excel('SSDSE-B-2024.xlsx', sheet_name='SSDSE-B-2024', skiprows=[1])\n",
    "ssdse_b_df.head()"
   ]
  },
  {
   "cell_type": "code",
   "execution_count": null,
   "metadata": {},
   "outputs": [],
   "source": [
    "# 問1 SSDSE-B-2024 において、2021年の総人口が全国5番目の都道府県は？\n",
    "\n",
    "# データフレーム ssdse_b_df から年(SSDSE-B-2024の列)が2021の行を抽出し、\n",
    "# 都道府県名の列(Prefecture)と総人口の列(A1101)からなるデータフレーム q1_df を作成\n",
    "q1_df = ssdse_b_df[ssdse_b_df['SSDSE-B-2024']==2021][['Prefecture', 'A1101']]\n",
    "\n",
    "# データフレーム q1_df の sort_valuesにより、総人口の列(A1101)で降順にソートし、上位10件を表示\n",
    "print(q1_df.sort_values('A1101', ascending=False)[['Prefecture', 'A1101']].head(10))"
   ]
  },
  {
   "cell_type": "code",
   "execution_count": null,
   "metadata": {},
   "outputs": [],
   "source": [
    "# 問2 2021年の(転入者-転出者)が最大の都道府県は？\n",
    "\n",
    "# データフレーム ssdse_b_2022_df から年(SSDSE-Bの列)が2021の行を抽出し、\n",
    "# 都道府県名(Prefecture)、転入者(A5101)、転出者(A5102)を抽出してデータフレームq3_dfを作成\n",
    "q3_df = ssdse_b_df[ssdse_b_df['SSDSE-B-2024']==2021][['Prefecture', 'A5101', 'A5102']]\n",
    "\n",
    "# 転入者と転出者の差をデータフレーム q3_df の diff列に追加\n",
    "q3_df['diff'] = q3_df['A5101'] - q3_df['A5102']\n",
    "\n",
    "# データフレーム q3_df の差の列(diff)を降順にソートして、上位5県を表示\n",
    "print(q3_df.sort_values('diff', ascending=False).head())"
   ]
  },
  {
   "cell_type": "code",
   "execution_count": null,
   "metadata": {},
   "outputs": [],
   "source": [
    "# 問3,4 2010年から2021年の降水量合計が最大の都道府県は？ 最小の都道府県は？\n",
    "\n",
    "# データフレーム ssdse_b_df を都道府県名(Prefecture)でグルーピングしてデータフレーム q4_df を作成\n",
    "ssdse_b_df_copy = ssdse_b_df.copy() # 作業用にコピーを作成\n",
    "ssdse_b_df_copy['B4109'] = pd.to_numeric(ssdse_b_df_copy['B4109'], errors='coerce') # 数値に変換(エラーはNaNに)\n",
    "q4_df = ssdse_b_df_copy.groupby('Prefecture') # 都道府県名でグルーピング\n",
    "\n",
    "# 降水量の列(B4109)を合計した結果をデータフレーム q4_sum_df に登録\n",
    "q4_sum_df = q4_df['B4109'].sum()\n",
    "\n",
    "# データフレーム q4_sum_df を降順にソートし、上位5件と下位5件を表示\n",
    "print(q4_sum_df.sort_values(ascending=False).head())\n",
    "print(q4_sum_df.sort_values(ascending=False).tail())"
   ]
  }
 ],
 "metadata": {
  "interpreter": {
   "hash": "18ef0afcf35f1452430268c7ef685ac367525865953635d3b087fb3264879c09"
  },
  "kernelspec": {
   "display_name": "Python 3.9.7 ('venv': venv)",
   "language": "python",
   "name": "python3"
  },
  "language_info": {
   "codemirror_mode": {
    "name": "ipython",
    "version": 3
   },
   "file_extension": ".py",
   "mimetype": "text/x-python",
   "name": "python",
   "nbconvert_exporter": "python",
   "pygments_lexer": "ipython3",
   "version": "3.9.9"
  },
  "orig_nbformat": 4
 },
 "nbformat": 4,
 "nbformat_minor": 2
}
