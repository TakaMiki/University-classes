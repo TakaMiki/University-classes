{
 "cells": [
  {
   "cell_type": "markdown",
   "metadata": {},
   "source": [
    "データサイエンス特別PG データサイエンス特論 第12回 課題"
   ]
  },
  {
   "cell_type": "code",
   "execution_count": null,
   "metadata": {},
   "outputs": [],
   "source": [
    "# google colab で実行する場合は下記のコメントアウトを外して実行する\n",
    "# ! wget https://github.com/KHiraGit/sudspg_ds/raw/main/ds07_temp_power_exercise.xlsx\n",
    "# ! pip install japanize-matplotlib"
   ]
  },
  {
   "cell_type": "code",
   "execution_count": null,
   "metadata": {},
   "outputs": [],
   "source": [
    "import matplotlib.pyplot as plt\n",
    "import japanize_matplotlib\n",
    "import numpy as np\n",
    "import openpyxl\n",
    "import pandas as pd\n",
    "import datetime\n",
    "from sklearn.preprocessing import StandardScaler\n",
    "from sklearn.cluster import KMeans\n",
    "from sklearn.mixture import GaussianMixture\n",
    "import seaborn as sns"
   ]
  },
  {
   "cell_type": "code",
   "execution_count": null,
   "metadata": {},
   "outputs": [],
   "source": [
    "weather_df = pd.read_excel('ds07_temp_power_exercise.xlsx', \n",
    "                           sheet_name='2020熊谷市気象データ_data', skiprows=[0,1,2],\n",
    "                           names=['年月日', '平均気温', '', '', '最高気温', '', '', '', '', '最低気温', '', '', '', '', \n",
    "                           '降水量', '', '', '', '日照時間', '', '', '', '降雪量', '', '', '', '平均風速', '', '', \n",
    "                           '平均蒸気圧', '', '', '平均湿度', '', '', '平均現地気圧', '', '', '', '', '', '天気概況', '', ''])\n",
    "\n",
    "year = 2020\n",
    "month = 1\n",
    "data = ['平均気温', '最高気温', '最低気温', '降水量', '日照時間', '降雪量', '平均風速', '平均蒸気圧', '平均湿度', '平均現地気圧'] \n",
    "target = '天気概況'\n",
    "weather_data = weather_df[(datetime.datetime(year,month,1) <= weather_df['年月日']) \n",
    "                        & (weather_df['年月日'] < datetime.datetime(year,month+1,1))][data].values\n",
    "weather_target = weather_df[(datetime.datetime(year,month,1) <= weather_df['年月日']) \n",
    "                            & (weather_df['年月日'] < datetime.datetime(year,month+1,1))][target].values\n",
    "# データを標準化\n",
    "stdsc = StandardScaler()\n",
    "weather_data = stdsc.fit_transform(weather_data)"
   ]
  },
  {
   "cell_type": "code",
   "execution_count": null,
   "metadata": {},
   "outputs": [],
   "source": [
    "# クラスタ数を決定するために距離の総計を確認\n",
    "distortions = []\n",
    "for i  in range(1,11):\n",
    "    km = KMeans(n_clusters=i, init='random', max_iter=30, random_state=1)\n",
    "    km.fit(weather_data)\n",
    "    distortions.append(km.inertia_)\n",
    "\n",
    "plt.figure(figsize=(10,4))\n",
    "plt.plot(range(1,11),distortions,marker='o')\n",
    "plt.xlabel('Number of clusters')\n",
    "plt.ylabel('Distortion')\n",
    "plt.show()"
   ]
  },
  {
   "cell_type": "code",
   "execution_count": null,
   "metadata": {},
   "outputs": [],
   "source": [
    "# クラスタ数を決めて、kmeans法でクラスタリング\n",
    "_n_cluster = 3\n",
    "kmeans = KMeans(n_clusters=_n_cluster, max_iter=30, init=\"random\", random_state=1)\n",
    "cluster = kmeans.fit_predict(weather_data)\n",
    "\n",
    "# 各クラスタの天気概況を確認\n",
    "for i in range(_n_cluster):\n",
    "    _weather_list = []\n",
    "    for _cluster, _weather in zip(cluster, weather_target):\n",
    "        if i == _cluster:\n",
    "            _weather_list.append(_weather)\n",
    "    print('cluster', i, _weather_list)\n",
    "\n",
    "# 各クラスターの重心を棒グラフで表示\n",
    "# (データサイエンスのための統計学入門 p316 より)\n",
    "centers = pd.DataFrame(kmeans.cluster_centers_, columns=data)\n",
    "f, axes = plt.subplots(_n_cluster, 1, sharex=True, figsize=(10,10))\n",
    "for i, ax in enumerate(axes):\n",
    "    center = centers.loc[i, :]\n",
    "    maxPC = 1.1 * np.max(np.max(np.abs(center)))\n",
    "    center.plot.bar(ax=ax)\n",
    "    ax.axhline(color='#cccccc')\n",
    "    ax.set_ylabel(f'Cluster {i+1}')\n",
    "    ax.set_ylim(-maxPC, maxPC)"
   ]
  },
  {
   "cell_type": "code",
   "execution_count": null,
   "metadata": {},
   "outputs": [],
   "source": [
    "# 混合カウスモデルでクラスタリングを実行\n",
    "_n_cluster = 3\n",
    "clf = GaussianMixture(n_components=_n_cluster)\n",
    "cluster = clf.fit_predict(weather_data)\n",
    "\n",
    "# 各クラスタの天気概況を確認\n",
    "for i in range(_n_cluster):\n",
    "    _weather_list = []\n",
    "    for _cluster, _weather in zip(cluster, weather_target):\n",
    "        if i == _cluster:\n",
    "            _weather_list.append(_weather)\n",
    "    print('cluster', i, _weather_list)\n",
    "\n",
    "# 各クラスターの重心を棒グラフで表示\n",
    "# (データサイエンスのための統計学入門 p316 より)\n",
    "centers = pd.DataFrame(clf.means_, columns=data)\n",
    "f, axes = plt.subplots(_n_cluster, 1, sharex=True, figsize=(10,10))\n",
    "for i, ax in enumerate(axes):\n",
    "    center = centers.loc[i, :]\n",
    "    maxPC = 1.1 * np.max(np.max(np.abs(center)))\n",
    "    center.plot.bar(ax=ax)\n",
    "    ax.axhline(color='#cccccc')\n",
    "    ax.set_ylabel(f'Cluster {i+1}')\n",
    "    ax.set_ylim(-maxPC, maxPC)"
   ]
  }
 ],
 "metadata": {
  "kernelspec": {
   "display_name": "Python 3.9.7 ('venv': venv)",
   "language": "python",
   "name": "python3"
  },
  "language_info": {
   "codemirror_mode": {
    "name": "ipython",
    "version": 3
   },
   "file_extension": ".py",
   "mimetype": "text/x-python",
   "name": "python",
   "nbconvert_exporter": "python",
   "pygments_lexer": "ipython3",
   "version": "3.9.7"
  },
  "orig_nbformat": 4,
  "vscode": {
   "interpreter": {
    "hash": "18ef0afcf35f1452430268c7ef685ac367525865953635d3b087fb3264879c09"
   }
  }
 },
 "nbformat": 4,
 "nbformat_minor": 2
}
