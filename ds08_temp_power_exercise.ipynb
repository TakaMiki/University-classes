{
 "cells": [
  {
   "cell_type": "markdown",
   "metadata": {},
   "source": [
    "データサイエンス特別PG データサイエンス特論 第8回 課題"
   ]
  },
  {
   "cell_type": "code",
   "execution_count": null,
   "metadata": {},
   "outputs": [],
   "source": [
    "# google colab で実行する場合は下記のコメントアウトを外して実行する\n",
    "# ! wget https://github.com/KHiraGit/sudspg_ds/raw/main/ds07_temp_power_exercise.xlsx"
   ]
  },
  {
   "cell_type": "code",
   "execution_count": 1,
   "metadata": {},
   "outputs": [],
   "source": [
    "import numpy as np\n",
    "import pandas as pd\n",
    "import openpyxl\n",
    "import statsmodels.api as sm\n",
    "import datetime\n",
    "from statsmodels.stats.outliers_influence import variance_inflation_factor as vif"
   ]
  },
  {
   "cell_type": "code",
   "execution_count": 2,
   "metadata": {},
   "outputs": [],
   "source": [
    "power_df = pd.read_excel('ds07_temp_power_exercise.xlsx', \n",
    "                         sheet_name='東京電力パワーグリッド エリア需給実績データ', skiprows=[0,1],\n",
    "                         names=['DATE', 'TIME', 'power', '', '', '', '', '', '', '', '', '', '', '', ''])\n",
    "power_df['DATETIME'] = pd.to_datetime(power_df['DATE']+' '+power_df['TIME'], format='%Y/%m/%d %H:%M')"
   ]
  },
  {
   "cell_type": "code",
   "execution_count": 3,
   "metadata": {},
   "outputs": [],
   "source": [
    "weather_df = pd.read_excel('ds07_temp_power_exercise.xlsx', \n",
    "                           sheet_name='2020熊谷市気象データ_data', skiprows=[0,1,2],\n",
    "                           names=['年月日', '平均気温', '', '', '最高気温', '', '', '', '', '最低気温', '', '', '', '', \n",
    "                           '降水量', '', '', '', '日照時間', '', '', '', '降雪量', '', '', '', '平均風速', '', '', \n",
    "                           '平均蒸気圧', '', '', '平均湿度', '', '', '平均現地気圧', '', '', '', '', '', '天気概況', '', ''])"
   ]
  },
  {
   "cell_type": "code",
   "execution_count": 4,
   "metadata": {},
   "outputs": [
    {
     "name": "stdout",
     "output_type": "stream",
     "text": [
      "## 2020年1月の気象データと電力需要の単回帰・多項式回帰分析\n",
      "                VIF\n",
      "const  79967.299749\n",
      "x1       104.321828\n",
      "x2        22.566540\n",
      "x3         5.061398\n",
      "x4         5.260251\n",
      "x5         8.659592\n",
      "x6         5.396535\n",
      "x7         4.936273\n",
      "x8       170.514824\n",
      "x9       178.980478\n",
      "x10        3.504841\n",
      "                            OLS Regression Results                            \n",
      "==============================================================================\n",
      "Dep. Variable:                      y   R-squared:                       0.461\n",
      "Model:                            OLS   Adj. R-squared:                  0.191\n",
      "Method:                 Least Squares   F-statistic:                     1.710\n",
      "Date:                Thu, 09 Jun 2022   Prob (F-statistic):              0.147\n",
      "Time:                        12:07:18   Log-Likelihood:                -230.71\n",
      "No. Observations:                  31   AIC:                             483.4\n",
      "Df Residuals:                      20   BIC:                             499.2\n",
      "Df Model:                          10                                         \n",
      "Covariance Type:            nonrobust                                         \n",
      "==============================================================================\n",
      "                 coef    std err          t      P>|t|      [0.025      0.975]\n",
      "------------------------------------------------------------------------------\n",
      "const       -1.36e+04   2.61e+04     -0.521      0.608   -6.81e+04    4.09e+04\n",
      "x1           364.3105    467.013      0.780      0.444    -609.862    1338.483\n",
      "x2           -60.3359    143.016     -0.422      0.678    -358.662     237.990\n",
      "x3          -111.0445    105.560     -1.052      0.305    -331.238     109.149\n",
      "x4            -1.7909     27.033     -0.066      0.948     -58.181      54.599\n",
      "x5           -83.4679     73.756     -1.132      0.271    -237.321      70.385\n",
      "x6          -308.4519   1214.160     -0.254      0.802   -2841.144    2224.241\n",
      "x7           180.4384    163.056      1.107      0.282    -159.690     520.567\n",
      "x8          -370.3300    964.756     -0.384      0.705   -2382.776    1642.116\n",
      "x9            62.1502    101.434      0.613      0.547    -149.437     273.737\n",
      "x10           13.9129     23.091      0.603      0.554     -34.254      62.080\n",
      "==============================================================================\n",
      "Omnibus:                        0.770   Durbin-Watson:                   1.076\n",
      "Prob(Omnibus):                  0.681   Jarque-Bera (JB):                0.780\n",
      "Skew:                          -0.172   Prob(JB):                        0.677\n",
      "Kurtosis:                       2.303   Cond. No.                     2.87e+05\n",
      "==============================================================================\n",
      "\n",
      "Notes:\n",
      "[1] Standard Errors assume that the covariance matrix of the errors is correctly specified.\n",
      "[2] The condition number is large, 2.87e+05. This might indicate that there are\n",
      "strong multicollinearity or other numerical problems.\n"
     ]
    }
   ],
   "source": [
    "year = 2020\n",
    "month = 1\n",
    "weather_data = ['平均気温', '最高気温', '最低気温', '降水量', '日照時間', '降雪量', \n",
    "                '平均風速', '平均蒸気圧', '平均湿度', '平均現地気圧'] \n",
    "print(f'## {year}年{month}月の気象データと電力需要の単回帰・多項式回帰分析')\n",
    "\n",
    "# 対象期間・対象の気温の独立変数と応答変数を用意\n",
    "x = weather_df[(datetime.datetime(year,month,1) <= weather_df['年月日']) \n",
    "        & (weather_df['年月日'] < datetime.datetime(year,month+1,1))][weather_data].values\n",
    "y = power_df[(datetime.datetime(year,month,1) <= power_df['DATETIME'])\n",
    "        & (power_df['DATETIME'] < datetime.datetime(year,month+1,1))\n",
    "        & (power_df['TIME'] == '14:00')][['power']].values\n",
    "x_added_constant = sm.add_constant(x)\n",
    "\n",
    "# 重回帰分析を実施、独立変数間の分散拡大要因を確認後、分析結果を出力\n",
    "model = sm.OLS(y, x_added_constant)\n",
    "num_cols = model.exog.shape[1] # 説明変数の列数\n",
    "vifs = [vif(model.exog, i) for i in range(0, num_cols)]\n",
    "print(pd.DataFrame(vifs, index=model.exog_names, columns=['VIF']))\n",
    "result = model.fit()\n",
    "print(result.summary())"
   ]
  },
  {
   "cell_type": "code",
   "execution_count": 5,
   "metadata": {},
   "outputs": [
    {
     "name": "stdout",
     "output_type": "stream",
     "text": [
      "## 2020年1月の気象データと電力需要の単回帰・多項式回帰分析\n",
      "                VIF\n",
      "const  31857.821876\n",
      "x1         2.371454\n",
      "x2         1.961314\n",
      "x3         2.075784\n",
      "x4         2.067238\n",
      "x5         2.188736\n",
      "x6         1.718988\n",
      "                            OLS Regression Results                            \n",
      "==============================================================================\n",
      "Dep. Variable:                      y   R-squared:                       0.389\n",
      "Model:                            OLS   Adj. R-squared:                  0.237\n",
      "Method:                 Least Squares   F-statistic:                     2.551\n",
      "Date:                Thu, 09 Jun 2022   Prob (F-statistic):             0.0470\n",
      "Time:                        12:07:19   Log-Likelihood:                -232.64\n",
      "No. Observations:                  31   AIC:                             479.3\n",
      "Df Residuals:                      24   BIC:                             489.3\n",
      "Df Model:                           6                                         \n",
      "Covariance Type:            nonrobust                                         \n",
      "==============================================================================\n",
      "                 coef    std err          t      P>|t|      [0.025      0.975]\n",
      "------------------------------------------------------------------------------\n",
      "const       1.087e+04    1.6e+04      0.678      0.504   -2.22e+04    4.39e+04\n",
      "x1           -28.1459     70.201     -0.401      0.692    -173.033     116.741\n",
      "x2             6.9993     16.038      0.436      0.666     -26.101      40.099\n",
      "x3           -96.9961     35.084     -2.765      0.011    -169.407     -24.586\n",
      "x4           252.8314    730.105      0.346      0.732   -1254.031    1759.694\n",
      "x5            49.8189    105.489      0.472      0.641    -167.899     267.537\n",
      "x6            -6.6711     15.712     -0.425      0.675     -39.098      25.756\n",
      "==============================================================================\n",
      "Omnibus:                        4.389   Durbin-Watson:                   0.902\n",
      "Prob(Omnibus):                  0.111   Jarque-Bera (JB):                2.807\n",
      "Skew:                          -0.548   Prob(JB):                        0.246\n",
      "Kurtosis:                       2.015   Cond. No.                     1.81e+05\n",
      "==============================================================================\n",
      "\n",
      "Notes:\n",
      "[1] Standard Errors assume that the covariance matrix of the errors is correctly specified.\n",
      "[2] The condition number is large, 1.81e+05. This might indicate that there are\n",
      "strong multicollinearity or other numerical problems.\n"
     ]
    }
   ],
   "source": [
    "# VIFが10以上の項目を削除して、独立変数間の分散拡大要因を再確認\n",
    "year = 2020\n",
    "month = 1\n",
    "weather_data = ['最低気温', '降水量', '日照時間', '降雪量', '平均風速', '平均現地気圧'] \n",
    "print(f'## {year}年{month}月の気象データと電力需要の単回帰・多項式回帰分析')\n",
    "\n",
    "# 対象期間・対象の気温の独立変数と応答変数を用意\n",
    "x = weather_df[(datetime.datetime(year,month,1) <= weather_df['年月日']) \n",
    "        & (weather_df['年月日'] < datetime.datetime(year,month+1,1))][weather_data].values\n",
    "x_added_constant = sm.add_constant(x)\n",
    "\n",
    "# 重回帰分析を実施して結果を出力\n",
    "model = sm.OLS(y, x_added_constant)\n",
    "\n",
    "# 独立変数間の分散拡大要因を確認\n",
    "num_cols = model.exog.shape[1] # 説明変数の列数\n",
    "vifs = [vif(model.exog, i) for i in range(0, num_cols)]\n",
    "print(pd.DataFrame(vifs, index=model.exog_names, columns=['VIF']))\n",
    "result = model.fit()\n",
    "print(result.summary())"
   ]
  },
  {
   "cell_type": "code",
   "execution_count": 11,
   "metadata": {},
   "outputs": [
    {
     "name": "stdout",
     "output_type": "stream",
     "text": [
      "1 ('日照時間', 471.2777693352293)\n",
      "2 ('日照時間/平均蒸気圧', 471.66398749995204)\n",
      "3 ('日照時間/平均湿度', 471.84103767449153)\n",
      "4 ('日照時間/降雪量', 472.0002044960938)\n",
      "5 ('降水量/日照時間', 472.07707443740145)\n",
      "6 ('日照時間/平均風速/平均湿度', 472.2249894135284)\n",
      "7 ('最高気温/平均蒸気圧', 472.637196453738)\n",
      "8 ('平均気温/日照時間', 472.81715772994494)\n",
      "9 ('日照時間/降雪量/平均蒸気圧', 472.8734248440945)\n",
      "10 ('最低気温/日照時間/平均風速/平均蒸気圧', 472.93939666472625)\n"
     ]
    }
   ],
   "source": [
    "import itertools\n",
    "year = 2020\n",
    "month = 1\n",
    "weather_data = ['平均気温', '最高気温', '最低気温', '降水量', '日照時間', '降雪量', \n",
    "                '平均風速', '平均蒸気圧', '平均湿度', '平均現地気圧'] \n",
    "\n",
    "# 気象データの組み合わせを作成し、リストに格納\n",
    "weather_data_combination = []\n",
    "for n in range(1, len(weather_data)+1):\n",
    "    for combination in itertools.combinations(weather_data, n):\n",
    "        weather_data_combination.append(list(combination))  #タプルをリスト型に変換\n",
    "\n",
    "# 気象データの組み合わせで重回帰分析を実施し、組み合わせとAICをdictに保存\n",
    "combination_aic = {}\n",
    "for combination in weather_data_combination:\n",
    "    x = weather_df[(datetime.datetime(year,month,1) <= weather_df['年月日']) \n",
    "        & (weather_df['年月日'] < datetime.datetime(year,month+1,1))][combination].values\n",
    "    x_added_constant = sm.add_constant(x)\n",
    "\n",
    "    # 重回帰分析を実施し、\n",
    "    model = sm.OLS(y, x_added_constant)\n",
    "    result = model.fit()\n",
    "    combination_aic['/'.join(combination)] = result.aic\n",
    "\n",
    "# AICの小さい順から組み合わせを5パターン出力\n",
    "combination_aic_sorted = sorted(combination_aic.items(), key=lambda x:x[1])\n",
    "for i in range(10):\n",
    "    print(i+1, combination_aic_sorted[i])"
   ]
  },
  {
   "cell_type": "code",
   "execution_count": null,
   "metadata": {},
   "outputs": [],
   "source": []
  }
 ],
 "metadata": {
  "interpreter": {
   "hash": "18ef0afcf35f1452430268c7ef685ac367525865953635d3b087fb3264879c09"
  },
  "kernelspec": {
   "display_name": "Python 3.9.7 ('venv': venv)",
   "language": "python",
   "name": "python3"
  },
  "language_info": {
   "codemirror_mode": {
    "name": "ipython",
    "version": 3
   },
   "file_extension": ".py",
   "mimetype": "text/x-python",
   "name": "python",
   "nbconvert_exporter": "python",
   "pygments_lexer": "ipython3",
   "version": "3.9.7"
  },
  "orig_nbformat": 4
 },
 "nbformat": 4,
 "nbformat_minor": 2
}
