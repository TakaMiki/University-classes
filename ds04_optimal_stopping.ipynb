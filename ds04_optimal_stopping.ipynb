{
 "cells": [
  {
   "cell_type": "code",
   "execution_count": 1,
   "metadata": {},
   "outputs": [],
   "source": [
    "# 最適停止問題のシミュレーション\n",
    "\n",
    "# ライブラリのインポート\n",
    "import numpy as np\n",
    "import matplotlib.pyplot as plt\n",
    "import random"
   ]
  },
  {
   "cell_type": "code",
   "execution_count": 2,
   "metadata": {},
   "outputs": [],
   "source": [
    "def simulation(N, watch, trial):\n",
    "    '''最適停止問題の関数'''\n",
    "    result = [0] * (N+1)  # 結果を保存するリスト\n",
    "    fail = 0  # 候補選びに失敗した回数\n",
    "\n",
    "    for i in range(trial):\n",
    "        member = list(range(1, N+1))  # N人の順位を登録したリストを用意\n",
    "        random.shuffle(member)  # リストをシャッフル\n",
    "\n",
    "        sample = []\n",
    "        for j in range(len(member)):  # 先頭から順に面接\n",
    "            if j < watch:  # 観察する人数まではその順位を記録\n",
    "                sample.append(member[j])\n",
    "            elif watch == 0 or member[j] < min(sample):  # 観察した人より良い順位の人が出現したら採用\n",
    "                result[member[j]] = result[member[j]] + 1  # 採用した人の順位を記録\n",
    "                break\n",
    "            elif j+1 == len(member):\n",
    "                fail = fail + 1  # N人面接して採用できなかった失敗の回数を記録\n",
    "\n",
    "    result.append(fail)\n",
    "\n",
    "    return result\n"
   ]
  },
  {
   "cell_type": "code",
   "execution_count": 9,
   "metadata": {},
   "outputs": [
    {
     "data": {
      "image/png": "[encoded data removed]",
      "text/plain": [
       "<Figure size 1080x360 with 4 Axes>"
      ]
     },
     "metadata": {
      "needs_background": "light"
     },
     "output_type": "display_data"
    }
   ],
   "source": [
    "N = 20\n",
    "trial = 100\n",
    "plt.figure(figsize=(15,5))\n",
    "\n",
    "plt.subplot(1, 4, 1)\n",
    "result = simulation(N, 0, trial)\n",
    "fig = plt.bar(list(range(N+2)), result)\n",
    "fig[N+1].set_color('red')\n",
    "\n",
    "plt.subplot(1, 4, 2)\n",
    "result = simulation(N, 1, trial)\n",
    "fig = plt.bar(list(range(N+2)), result)\n",
    "fig[N+1].set_color('red')\n",
    "\n",
    "plt.subplot(1, 4, 3)\n",
    "result = simulation(N, 5, trial)\n",
    "fig = plt.bar(list(range(N+2)), result)\n",
    "fig[N+1].set_color('red')\n",
    "\n",
    "plt.subplot(1, 4, 4)\n",
    "result = simulation(N, 10, trial)\n",
    "fig = plt.bar(list(range(N+2)), result)\n",
    "fig[N+1].set_color('red')"
   ]
  },
  {
   "cell_type": "code",
   "execution_count": null,
   "metadata": {},
   "outputs": [],
   "source": []
  }
 ],
 "metadata": {
  "interpreter": {
   "hash": "18ef0afcf35f1452430268c7ef685ac367525865953635d3b087fb3264879c09"
  },
  "kernelspec": {
   "display_name": "Python 3.9.9 ('venv': venv)",
   "language": "python",
   "name": "python3"
  },
  "language_info": {
   "codemirror_mode": {
    "name": "ipython",
    "version": 3
   },
   "file_extension": ".py",
   "mimetype": "text/x-python",
   "name": "python",
   "nbconvert_exporter": "python",
   "pygments_lexer": "ipython3",
   "version": "3.9.9"
  },
  "orig_nbformat": 4
 },
 "nbformat": 4,
 "nbformat_minor": 2
}
