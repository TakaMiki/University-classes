{
 "cells": [
  {
   "cell_type": "markdown",
   "metadata": {},
   "source": [
    "* ML09 ニューラルネットワーク\n",
    "  * tensorflow をインストールする\n",
    "  * Google Colab はインストール済み"
   ]
  },
  {
   "cell_type": "code",
   "execution_count": 1,
   "metadata": {},
   "outputs": [
    {
     "name": "stdout",
     "output_type": "stream",
     "text": [
      "2.10.1\n",
      "[PhysicalDevice(name='/physical_device:GPU:0', device_type='GPU')]\n"
     ]
    }
   ],
   "source": [
    "import tensorflow as tf\n",
    "import numpy as np\n",
    "import matplotlib.pyplot as plt\n",
    "\n",
    "print(tf.__version__)\n",
    "print(tf.config.list_physical_devices('GPU'))"
   ]
  },
  {
   "cell_type": "code",
   "execution_count": 2,
   "metadata": {},
   "outputs": [
    {
     "name": "stdout",
     "output_type": "stream",
     "text": [
      "[[-0.90068117  1.01900435 -1.34022653 -1.3154443 ]\n",
      " [-1.14301691 -0.13197948 -1.34022653 -1.3154443 ]\n",
      " [-1.38535265  0.32841405 -1.39706395 -1.3154443 ]]\n",
      "[[1. 0. 0.]\n",
      " [1. 0. 0.]\n",
      " [1. 0. 0.]]\n",
      "x_train:112 x_test:38 y_train:112 y_test:38\n"
     ]
    }
   ],
   "source": [
    "# sklearnデータセットに収録されたiris(アヤメ)のデータセットをロード\n",
    "from sklearn.datasets import load_iris\n",
    "from sklearn import preprocessing\n",
    "from sklearn.model_selection import train_test_split\n",
    "\n",
    "# 学習用データを読み込み、特徴量は標準化、ターゲットは one-hot ベクトル化\n",
    "iris_data = load_iris()\n",
    "x = preprocessing.scale(iris_data[\"data\"])\n",
    "print(x[:3])\n",
    "y = np.identity(3)[iris_data[\"target\"]]\n",
    "print(y[:3])\n",
    "\n",
    "# データを学習用とバリデーション用と検証用に分割\n",
    "x_train, x_test, y_train, y_test = \\\n",
    "    train_test_split(x, y, test_size=0.25, random_state=1) # 検証用データに25%を割当て\n",
    "print(f'x_train:{len(x_train)} x_test:{len(x_test)} y_train:{len(y_train)} y_test:{len(y_test)}')"
   ]
  },
  {
   "cell_type": "code",
   "execution_count": 7,
   "metadata": {},
   "outputs": [
    {
     "name": "stdout",
     "output_type": "stream",
     "text": [
      "Model: \"iris_model\"\n",
      "_________________________________________________________________\n",
      " Layer (type)                Output Shape              Param #   \n",
      "=================================================================\n",
      " dense_4 (Dense)             (None, 4)                 20        \n",
      "                                                                 \n",
      " dense_5 (Dense)             (None, 3)                 15        \n",
      "                                                                 \n",
      "=================================================================\n",
      "Total params: 35\n",
      "Trainable params: 35\n",
      "Non-trainable params: 0\n",
      "_________________________________________________________________\n",
      "2/2 [==============================] - 0s 2ms/step\n",
      "y_test[0] [1. 0. 0.] -> pred_test[0] [1.00000, 0.00000, 0.00000]\n",
      "y_test[1] [0. 1. 0.] -> pred_test[1] [0.00207, 0.99793, 0.00000]\n",
      "y_test[2] [0. 1. 0.] -> pred_test[2] [0.00007, 0.99990, 0.00003]\n",
      "y_test[3] [1. 0. 0.] -> pred_test[3] [1.00000, 0.00000, 0.00000]\n",
      "y_test[4] [0. 0. 1.] -> pred_test[4] [0.00000, 0.00004, 0.99996]\n",
      "y_test[5] [0. 1. 0.] -> pred_test[5] [0.00051, 0.99641, 0.00308]\n",
      "y_test[6] [0. 0. 1.] -> pred_test[6] [0.00000, 0.00003, 0.99997]\n",
      "y_test[7] [1. 0. 0.] -> pred_test[7] [0.99999, 0.00001, 0.00000]\n",
      "y_test[8] [1. 0. 0.] -> pred_test[8] [0.99999, 0.00001, 0.00000]\n",
      "y_test[9] [0. 0. 1.] -> pred_test[9] [0.00000, 0.00000, 1.00000]\n",
      "y_test[10] [0. 1. 0.] -> pred_test[10] [0.00014, 0.99983, 0.00003]\n",
      "y_test[11] [1. 0. 0.] -> pred_test[11] [0.99999, 0.00001, 0.00000]\n",
      "y_test[12] [0. 0. 1.] -> pred_test[12] [0.00000, 0.00000, 1.00000]\n",
      "y_test[13] [0. 1. 0.] -> pred_test[13] [0.00020, 0.99965, 0.00016]\n",
      "y_test[14] [0. 1. 0.] -> pred_test[14] [0.00029, 0.99793, 0.00178]\n",
      "y_test[15] [1. 0. 0.] -> pred_test[15] [1.00000, 0.00000, 0.00000]\n",
      "y_test[16] [0. 1. 0.] -> pred_test[16] [0.00005, 0.99995, 0.00000]\n",
      "y_test[17] [0. 1. 0.] -> pred_test[17] [0.00064, 0.99766, 0.00170]\n",
      "y_test[18] [1. 0. 0.] -> pred_test[18] [0.99984, 0.00016, 0.00000]\n",
      "y_test[19] [1. 0. 0.] -> pred_test[19] [0.99999, 0.00001, 0.00000]\n",
      "y_test[20] [0. 1. 0.] -> pred_test[20] [0.00013, 0.99982, 0.00005]\n",
      "y_test[21] [0. 1. 0.] -> pred_test[21] [0.00104, 0.99652, 0.00244]\n",
      "y_test[22] [0. 1. 0.] -> pred_test[22] [0.00024, 0.54931, 0.45045]\n",
      "y_test[23] [1. 0. 0.] -> pred_test[23] [1.00000, 0.00000, 0.00000]\n",
      "y_test[24] [0. 0. 1.] -> pred_test[24] [0.00000, 0.00031, 0.99969]\n",
      "y_test[25] [0. 1. 0.] -> pred_test[25] [0.00012, 0.99988, 0.00001]\n",
      "y_test[26] [1. 0. 0.] -> pred_test[26] [1.00000, 0.00000, 0.00000]\n",
      "y_test[27] [1. 0. 0.] -> pred_test[27] [1.00000, 0.00000, 0.00000]\n",
      "y_test[28] [0. 1. 0.] -> pred_test[28] [0.00008, 0.99984, 0.00008]\n",
      "y_test[29] [0. 0. 1.] -> pred_test[29] [0.00000, 0.00091, 0.99909]\n",
      "y_test[30] [0. 1. 0.] -> pred_test[30] [0.00020, 0.99946, 0.00033]\n",
      "y_test[31] [0. 0. 1.] -> pred_test[31] [0.00000, 0.00000, 1.00000]\n",
      "y_test[32] [0. 1. 0.] -> pred_test[32] [0.00003, 0.99997, 0.00000]\n",
      "y_test[33] [0. 0. 1.] -> pred_test[33] [0.00000, 0.00000, 1.00000]\n",
      "y_test[34] [0. 0. 1.] -> pred_test[34] [0.00000, 0.00000, 1.00000]\n",
      "y_test[35] [1. 0. 0.] -> pred_test[35] [1.00000, 0.00000, 0.00000]\n",
      "y_test[36] [0. 1. 0.] -> pred_test[36] [0.00009, 0.99985, 0.00006]\n",
      "y_test[37] [1. 0. 0.] -> pred_test[37] [0.99999, 0.00001, 0.00000]\n",
      "Wall time: 7min 41s\n"
     ]
    }
   ],
   "source": [
    "%%time\n",
    "# ニューラルネットワークのモデルを作成 (サマリを表示) ## 1\n",
    "tf.random.set_seed(1) # tensorflow で利用する乱数のシードを設定\n",
    "iris_model = tf.keras.models.Sequential(name='iris_model') # ニューラルネットワークのモデルの箱を用意\n",
    "iris_model.add(tf.keras.Input(shape=(4,))) # 4入力の入力層\n",
    "iris_model.add(tf.keras.layers.Dense(units=4, activation='relu')) # 4入力のセルを1個用意、活性化関数は ReLU\n",
    "iris_model.add(tf.keras.layers.Dense(units=3, activation='softmax')) # セルを3個からなる出力層を用意、活性化関数はソフトマックス\n",
    "iris_model.summary()  # 作成したモデルの中身を表示\n",
    "\n",
    "# 学習時の設定を行い、学習を実施 (学習中のlossの変化をグラフで表示)\n",
    "iris_model.compile(loss='categorical_crossentropy', optimizer='sgd', metrics=['accuracy']) # 学習時の損失関数、最適化関数、評価関数を設定\n",
    "history = iris_model.fit(x_train, y_train, # 学習用データ\n",
    "                         epochs=10000, batch_size=10, verbose=0, shuffle=True, # fit関数で学習を実施\n",
    "                         validation_data=(x_test, y_test))  # validation用のデータを設定\n",
    "\n",
    "# 学習したモデルで検証用データの品種を予測し、個体ごとに結果を表示\n",
    "pred_test = iris_model.predict(x_test)\n",
    "for i in range(len(pred_test)):\n",
    "    print(f'y_test[{i}] {y_test[i]} -> pred_test[{i}] [{pred_test[i][0]:.5f}, {pred_test[i][1]:.5f}, {pred_test[i][2]:.5f}]')\n"
   ]
  },
  {
   "cell_type": "code",
   "execution_count": 12,
   "metadata": {},
   "outputs": [
    {
     "name": "stdout",
     "output_type": "stream",
     "text": [
      "iris data: accuracy_score: train data : 0.98214  test data : 1.00000\n"
     ]
    },
    {
     "data": {
      "image/png": "[encoded data removed]",
      "text/plain": [
       "<Figure size 864x360 with 2 Axes>"
      ]
     },
     "metadata": {
      "needs_background": "light"
     },
     "output_type": "display_data"
    }
   ],
   "source": [
    "# 学習したモデルの性能(正答率)を学習用データと検証用データで評価\n",
    "train_loss, train_accuracy = iris_model.evaluate(x_train, y_train, verbose=0)\n",
    "test_loss, test_accuracy = iris_model.evaluate(x_test, y_test, verbose=0)\n",
    "print(f'iris data: accuracy_score: train data : {train_accuracy:.5f}  test data : {test_accuracy:.5f}')\n",
    "\n",
    "# 学習中の精度の変化をグラフで表示\n",
    "fig, ax = plt.subplots(1,2,figsize=(12,5))\n",
    "ax[0].set_ylabel('Loss')\n",
    "ax[0].set_xlabel('Epoch')\n",
    "ax[0].plot(history.history['loss'], label='train_loss') # 学習中のlossの変化をグラフで表示\n",
    "ax[0].legend(loc='upper right')\n",
    "ax[1].plot(history.history['accuracy'], label='train_data_accuracy') # 学習中の学習用データに対する正解率の変化をグラフで表示\n",
    "ax[1].plot(history.history['val_accuracy'], label='validation_data_accuracy') # 学習中の検証用データに対する正解率の変化をグラフで表示\n",
    "ax[1].set_ylabel('Accuracy')\n",
    "ax[1].set_xlabel('Epoch')\n",
    "ax[1].legend(loc='lower right')\n",
    "plt.show()\n"
   ]
  }
 ],
 "metadata": {
  "kernelspec": {
   "display_name": "Python 3.9.9 ('venv': venv)",
   "language": "python",
   "name": "python3"
  },
  "language_info": {
   "codemirror_mode": {
    "name": "ipython",
    "version": 3
   },
   "file_extension": ".py",
   "mimetype": "text/x-python",
   "name": "python",
   "nbconvert_exporter": "python",
   "pygments_lexer": "ipython3",
   "version": "3.9.9"
  },
  "orig_nbformat": 4,
  "vscode": {
   "interpreter": {
    "hash": "18ef0afcf35f1452430268c7ef685ac367525865953635d3b087fb3264879c09"
   }
  }
 },
 "nbformat": 4,
 "nbformat_minor": 2
}
