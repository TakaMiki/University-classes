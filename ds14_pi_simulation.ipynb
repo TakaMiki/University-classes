{
 "cells": [
  {
   "cell_type": "markdown",
   "metadata": {},
   "source": [
    "データサイエンス基礎 第14回 数値解析におけるモンテカルロ法 シミュレーションで円周率を計算"
   ]
  },
  {
   "cell_type": "code",
   "execution_count": null,
   "metadata": {},
   "outputs": [],
   "source": [
    "import math\n",
    "import numpy as np\n",
    "from numpy import random\n",
    "import matplotlib.pyplot as plt"
   ]
  },
  {
   "cell_type": "code",
   "execution_count": null,
   "metadata": {},
   "outputs": [],
   "source": [
    "N_array = [100, 1000, 10000, 100000] # 試行回数を設定\n",
    "N = 5  # 上記の試行回数で N 回実験\n",
    "\n",
    "for j in range(N):\n",
    "    fig = plt.figure(figsize=(16, 4))\n",
    "    for i in range(len(N_array)):\n",
    "        N = N_array[i]\n",
    "        N_in = 0\n",
    "        N_out = 0\n",
    "        ran_x = random.rand(N) #Xの乱数\n",
    "        ran_y = random.rand(N) #Yの乱数\n",
    "        ran_point = np.hypot(ran_x,ran_y) #X^2 + Y^2の平方根\n",
    "\n",
    "        for j in ran_point:\n",
    "            if j <= 1:\n",
    "                N_in += 1\n",
    "            else:\n",
    "                N_out += 1\n",
    "        Pie = N_in/N*4\n",
    "\n",
    "        print(f'{N_array[i]} samples: in:{N_in} out:{N_out} all:{N} Pi: {Pie}')\n",
    "\n",
    "        ax = fig.add_subplot(1, len(N_array), i+1)\n",
    "        c1 = plt.Circle((0, 0), radius=1, fc=\"None\", ec=\"r\", linewidth=2, color = \"black\")\n",
    "        ax.add_patch(c1)\n",
    "        ax.axis(\"scaled\")\n",
    "        ax.set_xlim(0, 1)\n",
    "        ax.set_ylim(0, 1)\n",
    "        ax.set_xlabel(\"X\")\n",
    "        ax.set_ylabel(\"Y\")\n",
    "        ax.set_title(\"PLOT\")\n",
    "\n",
    "        ax.scatter(ran_x, ran_y, marker=\".\", color = \"blue\", label = \"POINT\")\n",
    "\n",
    "    plt.show()\n"
   ]
  },
  {
   "cell_type": "code",
   "execution_count": null,
   "metadata": {},
   "outputs": [],
   "source": []
  }
 ],
 "metadata": {
  "kernelspec": {
   "display_name": "Python 3.9.7 ('venv': venv)",
   "language": "python",
   "name": "python3"
  },
  "language_info": {
   "codemirror_mode": {
    "name": "ipython",
    "version": 3
   },
   "file_extension": ".py",
   "mimetype": "text/x-python",
   "name": "python",
   "nbconvert_exporter": "python",
   "pygments_lexer": "ipython3",
   "version": "3.9.7"
  },
  "orig_nbformat": 4,
  "vscode": {
   "interpreter": {
    "hash": "18ef0afcf35f1452430268c7ef685ac367525865953635d3b087fb3264879c09"
   }
  }
 },
 "nbformat": 4,
 "nbformat_minor": 2
}
