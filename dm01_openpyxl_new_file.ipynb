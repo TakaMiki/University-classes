{
 "cells": [
  {
   "attachments": {},
   "cell_type": "markdown",
   "metadata": {},
   "source": [
    "* データマイニング特別演習 第１回 \n",
    "  * python の openpyxl ライブラリでエクセルファイルの読み書きする例"
   ]
  },
  {
   "cell_type": "code",
   "execution_count": null,
   "metadata": {},
   "outputs": [],
   "source": [
    "## openpyxl ライブラリでエクセルファイルを新規作成\n",
    "from openpyxl import Workbook # ライブラリの読み込み\n",
    "\n",
    "wb = Workbook() # ワークブックを新規作成\n",
    "wb.create_sheet('ワークシート') # ワークシートを作成\n",
    "ws = wb['ワークシート'] # 作成したワークシートを取得\n",
    "for _row in [1,2,3]:  # ワークシートのセルの値を設定\n",
    "    for _column in [1,2,3,4,5]:\n",
    "        ws.cell(row=_row, column=_column, value=_row*_column)\n",
    "wb.save(\"dm01_excel_01.xlsx\") # ワークブックを保存\n",
    "wb.close() # エクセルファイルをクローズ (作業終了)"
   ]
  },
  {
   "cell_type": "code",
   "execution_count": null,
   "metadata": {},
   "outputs": [],
   "source": [
    "## openpyxl ライブラリで、作成したエクセルファイルのデータを取得\n",
    "import openpyxl\n",
    "wb = openpyxl.load_workbook(\"dm01_excel_01.xlsx\") # ワークブックを読み込む\n",
    "ws = wb['ワークシート'] # ワークシートを取得\n",
    "for _i in [1,2,3]:  # ワークシートのセルの値を取得して表示 (斜めに)\n",
    "    print(f'row={_i} column={_i} data={ws.cell(row=_i,column=_i).value}')\n",
    "wb.close() # エクセルファイルをクローズ (作業終了)"
   ]
  }
 ],
 "metadata": {
  "kernelspec": {
   "display_name": "venv",
   "language": "python",
   "name": "python3"
  },
  "language_info": {
   "codemirror_mode": {
    "name": "ipython",
    "version": 3
   },
   "file_extension": ".py",
   "mimetype": "text/x-python",
   "name": "python",
   "nbconvert_exporter": "python",
   "pygments_lexer": "ipython3",
   "version": "3.9.7"
  },
  "orig_nbformat": 4
 },
 "nbformat": 4,
 "nbformat_minor": 2
}
