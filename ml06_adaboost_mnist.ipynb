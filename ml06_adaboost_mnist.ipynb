{
 "cells": [
  {
   "cell_type": "markdown",
   "metadata": {},
   "source": [
    "機械学習特論 第6回 アダブースト で mnist を分類"
   ]
  },
  {
   "cell_type": "code",
   "execution_count": 1,
   "metadata": {},
   "outputs": [],
   "source": [
    "# google colab で実行する場合は、次の行の先頭の # を削除してこのブロックを実行する\n",
    "#!pip install japanize-matplotlib"
   ]
  },
  {
   "cell_type": "code",
   "execution_count": 2,
   "metadata": {},
   "outputs": [],
   "source": [
    "import numpy as np\n",
    "import pandas as pd\n",
    "import matplotlib.pyplot as plt\n",
    "import seaborn as sns\n",
    "from sklearn.model_selection import train_test_split\n",
    "from sklearn.tree import DecisionTreeClassifier\n",
    "from sklearn.ensemble import AdaBoostClassifier\n",
    "from sklearn import metrics"
   ]
  },
  {
   "cell_type": "code",
   "execution_count": 3,
   "metadata": {},
   "outputs": [],
   "source": [
    "from sklearn.datasets import fetch_openml\n",
    "# 手書き文字のデータセットをダウンロードして、実験用データを準備 (70000枚のうち7000枚を利用)\n",
    "mnist_data = fetch_openml('mnist_784', version=1)\n",
    "_x = np.array(mnist_data['data'].astype(np.float32))\n",
    "_y = np.array(mnist_data['target'].astype(np.int32))\n",
    "_, x, _, y = train_test_split(_x, _y, test_size=0.1, random_state=1)"
   ]
  },
  {
   "cell_type": "code",
   "execution_count": 4,
   "metadata": {},
   "outputs": [
    {
     "name": "stdout",
     "output_type": "stream",
     "text": [
      "x_train:5250 x_test:1750 y_train:5250 y_test:1750\n"
     ]
    }
   ],
   "source": [
    "# データを学習用と検証用に分割\n",
    "x_train, x_test, y_train, y_test = \\\n",
    "    train_test_split(x, y, test_size=0.25, random_state=2) # 検証用データに25%を割当て\n",
    "print(f'x_train:{len(x_train)} x_test:{len(x_test)} y_train:{len(y_train)} y_test:{len(y_test)}')"
   ]
  },
  {
   "cell_type": "code",
   "execution_count": 5,
   "metadata": {},
   "outputs": [
    {
     "name": "stdout",
     "output_type": "stream",
     "text": [
      "max_depth=10, accuracy_score:  train data :  0.92705 test data :  0.78286\n"
     ]
    }
   ],
   "source": [
    "# アダブーストのためのベースモデル(決定木)を作成 (指定がないと深さ1の決定木を利用)\n",
    "base_clf = DecisionTreeClassifier(max_depth=5, random_state=1)\n",
    "# 学習データを利用してアダブーストを学習\n",
    "clf = AdaBoostClassifier(base_estimator=base_clf, # ベースモデルを指定\n",
    "                         random_state=1) # 乱数シード\n",
    "clf = clf.fit(x_train, y_train)\n",
    "\n",
    "# 学習したモデルの性能(正答率)を学習用データと検証用データで評価\n",
    "predict_train = clf.predict(x_train)\n",
    "predict_test = clf.predict(x_test)\n",
    "print('max_depth=10, accuracy_score: ', \n",
    "      f'train data : {metrics.accuracy_score(y_train, predict_train): 0.5}', \n",
    "      f'test data : {metrics.accuracy_score(y_test, predict_test): 0.5}')"
   ]
  },
  {
   "cell_type": "code",
   "execution_count": 9,
   "metadata": {},
   "outputs": [
    {
     "name": "stdout",
     "output_type": "stream",
     "text": [
      "ADB max_depth=1*10, accuracy_score:  train data :  0.79086 test data :  0.68629\n",
      "ADB max_depth=2*10, accuracy_score:  train data :  0.85771 test data :  0.74\n",
      "ADB max_depth=3*10, accuracy_score:  train data :  0.89105 test data :  0.75771\n",
      "ADB max_depth=4*10, accuracy_score:  train data :  0.90095 test data :  0.764\n",
      "ADB max_depth=5*10, accuracy_score:  train data :  0.92705 test data :  0.78286\n",
      "ADB max_depth=6*10, accuracy_score:  train data :  0.93181 test data :  0.78686\n",
      "ADB max_depth=7*10, accuracy_score:  train data :  0.93981 test data :  0.79086\n",
      "ADB max_depth=8*10, accuracy_score:  train data :  0.9419 test data :  0.80057\n",
      "ADB max_depth=9*10, accuracy_score:  train data :  0.95219 test data :  0.80743\n",
      "ADB max_depth=10*10, accuracy_score:  train data :  0.95371 test data :  0.82343\n",
      "ADB max_depth=11*10, accuracy_score:  train data :  0.95638 test data :  0.82629\n",
      "ADB max_depth=12*10, accuracy_score:  train data :  0.96038 test data :  0.82857\n",
      "ADB max_depth=13*10, accuracy_score:  train data :  0.96381 test data :  0.83486\n",
      "ADB max_depth=14*10, accuracy_score:  train data :  0.96762 test data :  0.84114\n",
      "ADB max_depth=15*10, accuracy_score:  train data :  0.96971 test data :  0.84\n",
      "ADB max_depth=16*10, accuracy_score:  train data :  0.97086 test data :  0.84571\n",
      "ADB max_depth=17*10, accuracy_score:  train data :  0.97219 test data :  0.84743\n",
      "ADB max_depth=18*10, accuracy_score:  train data :  0.97505 test data :  0.84686\n",
      "ADB max_depth=19*10, accuracy_score:  train data :  0.97562 test data :  0.84686\n",
      "ADB max_depth=20*10, accuracy_score:  train data :  0.98019 test data :  0.84571\n"
     ]
    }
   ],
   "source": [
    "# 木の数を変えて学習したアダブーストの性能を学習用データと検証用データで確認\n",
    "N = 20\n",
    "_x = np.linspace(10, N*10, N) # グラフのx軸の設定 (1から7までの7点)\n",
    "dct_train_score = [] # グラフ用のリスト\n",
    "dct_test_score = []\n",
    "adb_train_score = [] # グラフ用のリスト\n",
    "adb_test_score = [] \n",
    "for i in range(N):\n",
    "    # 学習データを利用してアダブーストを学習\n",
    "    base_clf = DecisionTreeClassifier(max_depth=5, random_state=1)\n",
    "    clf = AdaBoostClassifier(base_estimator=base_clf, # ベースモデルを指定\n",
    "                             n_estimators=(i+1)*10, # 木の数は10ずつ増やして性能を計測\n",
    "                             random_state=1) # 乱数シード\n",
    "    clf = clf.fit(x_train, y_train)  # * y_trainの列指定はwarning回避のため *\n",
    "\n",
    "    # 学習したモデルの性能(正答率)を学習用データと検証用データで評価\n",
    "    predict_train = clf.predict(x_train)\n",
    "    adb_train_score.append(metrics.accuracy_score(y_train, predict_train))\n",
    "    predict_test = clf.predict(x_test)\n",
    "    adb_test_score.append(metrics.accuracy_score(y_test, predict_test))\n",
    "    print(f'ADB max_depth={i+1}*10, accuracy_score: ', \n",
    "            f'train data : {adb_train_score[i]: 0.5}', \n",
    "            f'test data : {adb_test_score[i]: 0.5}')"
   ]
  },
  {
   "cell_type": "code",
   "execution_count": 8,
   "metadata": {},
   "outputs": [
    {
     "data": {
      "image/png": "[encoded data removed]",
      "text/plain": [
       "<Figure size 720x432 with 1 Axes>"
      ]
     },
     "metadata": {
      "needs_background": "light"
     },
     "output_type": "display_data"
    }
   ],
   "source": [
    "# 木の深さに対する決定木の性能をグラフで表示\n",
    "plt.figure(figsize=[10,6])\n",
    "plt.plot(_x, adb_train_score, label='adb_train_score', color=\"blue\")\n",
    "plt.plot(_x, adb_test_score, label='adb_test_score', color=\"orange\")\n",
    "plt.xlabel('n_estimator')\n",
    "plt.ylabel('accuracy')\n",
    "plt.xticks(_x)\n",
    "plt.legend()\n",
    "plt.show()"
   ]
  },
  {
   "cell_type": "code",
   "execution_count": 10,
   "metadata": {},
   "outputs": [
    {
     "name": "stdout",
     "output_type": "stream",
     "text": [
      "ADB max_depth=1*10, accuracy_score:  train data :  1.0 test data :  0.83886\n",
      "ADB max_depth=2*10, accuracy_score:  train data :  1.0 test data :  0.87429\n",
      "ADB max_depth=3*10, accuracy_score:  train data :  1.0 test data :  0.88686\n",
      "ADB max_depth=4*10, accuracy_score:  train data :  1.0 test data :  0.90114\n",
      "ADB max_depth=5*10, accuracy_score:  train data :  1.0 test data :  0.90571\n",
      "ADB max_depth=6*10, accuracy_score:  train data :  1.0 test data :  0.91143\n",
      "ADB max_depth=7*10, accuracy_score:  train data :  1.0 test data :  0.91371\n",
      "ADB max_depth=8*10, accuracy_score:  train data :  1.0 test data :  0.912\n",
      "ADB max_depth=9*10, accuracy_score:  train data :  1.0 test data :  0.91029\n",
      "ADB max_depth=10*10, accuracy_score:  train data :  1.0 test data :  0.91086\n",
      "ADB max_depth=11*10, accuracy_score:  train data :  1.0 test data :  0.91257\n",
      "ADB max_depth=12*10, accuracy_score:  train data :  1.0 test data :  0.91486\n",
      "ADB max_depth=13*10, accuracy_score:  train data :  1.0 test data :  0.916\n",
      "ADB max_depth=14*10, accuracy_score:  train data :  1.0 test data :  0.91429\n",
      "ADB max_depth=15*10, accuracy_score:  train data :  1.0 test data :  0.91771\n",
      "ADB max_depth=16*10, accuracy_score:  train data :  1.0 test data :  0.91543\n",
      "ADB max_depth=17*10, accuracy_score:  train data :  1.0 test data :  0.91714\n",
      "ADB max_depth=18*10, accuracy_score:  train data :  1.0 test data :  0.92114\n",
      "ADB max_depth=19*10, accuracy_score:  train data :  1.0 test data :  0.92\n",
      "ADB max_depth=20*10, accuracy_score:  train data :  1.0 test data :  0.92229\n"
     ]
    }
   ],
   "source": [
    "# 木の数を変えて学習したアダブーストの性能を学習用データと検証用データで確認\n",
    "N = 20\n",
    "_x = np.linspace(10, N*10, N) # グラフのx軸の設定 (1から7までの7点)\n",
    "dct_train_score = [] # グラフ用のリスト\n",
    "dct_test_score = []\n",
    "adb_train_score = [] # グラフ用のリスト\n",
    "adb_test_score = [] \n",
    "for i in range(N):\n",
    "    # 学習データを利用してアダブーストを学習\n",
    "    base_clf = DecisionTreeClassifier(max_depth=10, random_state=1)\n",
    "    clf = AdaBoostClassifier(base_estimator=base_clf, # ベースモデルを指定\n",
    "                             n_estimators=(i+1)*10, # 木の数は10ずつ増やして性能を計測\n",
    "                             random_state=1) # 乱数シード\n",
    "    clf = clf.fit(x_train, y_train)  # * y_trainの列指定はwarning回避のため *\n",
    "\n",
    "    # 学習したモデルの性能(正答率)を学習用データと検証用データで評価\n",
    "    predict_train = clf.predict(x_train)\n",
    "    adb_train_score.append(metrics.accuracy_score(y_train, predict_train))\n",
    "    predict_test = clf.predict(x_test)\n",
    "    adb_test_score.append(metrics.accuracy_score(y_test, predict_test))\n",
    "    print(f'ADB max_depth={i+1}*10, accuracy_score: ', \n",
    "            f'train data : {adb_train_score[i]: 0.5}', \n",
    "            f'test data : {adb_test_score[i]: 0.5}')"
   ]
  },
  {
   "cell_type": "code",
   "execution_count": 11,
   "metadata": {},
   "outputs": [
    {
     "data": {
      "image/png": "[encoded data removed]",
      "text/plain": [
       "<Figure size 720x432 with 1 Axes>"
      ]
     },
     "metadata": {
      "needs_background": "light"
     },
     "output_type": "display_data"
    }
   ],
   "source": [
    "# 木の深さに対する決定木の性能をグラフで表示\n",
    "plt.figure(figsize=[10,6])\n",
    "plt.plot(_x, adb_train_score, label='adb_train_score', color=\"blue\")\n",
    "plt.plot(_x, adb_test_score, label='adb_test_score', color=\"orange\")\n",
    "plt.xlabel('n_estimator')\n",
    "plt.ylabel('accuracy')\n",
    "plt.xticks(_x)\n",
    "plt.legend()\n",
    "plt.show()"
   ]
  }
 ],
 "metadata": {
  "kernelspec": {
   "display_name": "Python 3.9.7 ('venv': venv)",
   "language": "python",
   "name": "python3"
  },
  "language_info": {
   "codemirror_mode": {
    "name": "ipython",
    "version": 3
   },
   "file_extension": ".py",
   "mimetype": "text/x-python",
   "name": "python",
   "nbconvert_exporter": "python",
   "pygments_lexer": "ipython3",
   "version": "3.9.7"
  },
  "orig_nbformat": 4,
  "vscode": {
   "interpreter": {
    "hash": "18ef0afcf35f1452430268c7ef685ac367525865953635d3b087fb3264879c09"
   }
  }
 },
 "nbformat": 4,
 "nbformat_minor": 2
}
