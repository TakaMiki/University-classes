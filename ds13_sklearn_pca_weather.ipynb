{
 "cells": [
  {
   "cell_type": "markdown",
   "metadata": {},
   "source": [
    "データサイエンス特別PG データサイエンス特論 第13回 主成分分析"
   ]
  },
  {
   "cell_type": "code",
   "execution_count": null,
   "metadata": {},
   "outputs": [],
   "source": [
    "# google colab で実行する場合は下記のコメントアウトを外して実行する\n",
    "# ! wget https://github.com/KHiraGit/sudspg_ds/raw/main/ds07_temp_power_exercise.xlsx\n",
    "# ! pip install japanize-matplotlib\n",
    "\n",
    "# 下記を参考に作成\n",
    "# https://santakalog.com/2021/02/13/python-pca/"
   ]
  },
  {
   "cell_type": "code",
   "execution_count": null,
   "metadata": {},
   "outputs": [],
   "source": [
    "# ライブラリをインポート\n",
    "import matplotlib.pyplot as plt\n",
    "import japanize_matplotlib\n",
    "import numpy as np\n",
    "import openpyxl\n",
    "import pandas as pd\n",
    "import datetime\n",
    "import seaborn as sns\n",
    "from sklearn.decomposition import PCA\n",
    "from sklearn.preprocessing import StandardScaler"
   ]
  },
  {
   "cell_type": "code",
   "execution_count": null,
   "metadata": {},
   "outputs": [],
   "source": [
    "weather_df = pd.read_excel('ds07_temp_power_exercise.xlsx', \n",
    "                           sheet_name='2020熊谷市気象データ_data', skiprows=[0,1,2],\n",
    "                           names=['年月日', '平均気温', '', '', '最高気温', '', '', '', '', '最低気温', '', '', '', '', \n",
    "                           '降水量', '', '', '', '日照時間', '', '', '', '降雪量', '', '', '', '平均風速', '', '', \n",
    "                           '平均蒸気圧', '', '', '平均湿度', '', '', '平均現地気圧', '', '', '', '', '', '天気概況', '', ''])\n",
    "\n",
    "year = 2020\n",
    "month = 1\n",
    "data = ['平均気温', '最高気温', '最低気温', '降水量', '日照時間', '降雪量', '平均風速', '平均蒸気圧', '平均湿度', '平均現地気圧'] \n",
    "target = '天気概況'\n",
    "weather_data = weather_df[(datetime.datetime(year,month,1) <= weather_df['年月日']) \n",
    "                        & (weather_df['年月日'] < datetime.datetime(year,month+1,1))][data].values\n",
    "weather_target = weather_df[(datetime.datetime(year,month,1) <= weather_df['年月日']) \n",
    "                            & (weather_df['年月日'] < datetime.datetime(year,month+1,1))][target].values\n",
    "# データを標準化\n",
    "stdsc = StandardScaler()\n",
    "weather_data = stdsc.fit_transform(weather_data)"
   ]
  },
  {
   "cell_type": "code",
   "execution_count": null,
   "metadata": {},
   "outputs": [],
   "source": [
    "#主成分分析を実行\n",
    "pca = PCA()\n",
    "pca.fit(weather_data)\n",
    "\n",
    "# データを主成分空間に写像\n",
    "pca_cor = pca.transform(weather_data)\n",
    "\n",
    "# 第一主成分と第二主成分で各日を天気概況付きでプロット\n",
    "plt.figure(figsize=(6, 6))\n",
    "for x, y, name in zip(pca_cor[:, 0], pca_cor[:, 1], weather_target):\n",
    "    plt.text(x+0.05, y, name)\n",
    "plt.scatter(pca_cor[:, 0], pca_cor[:, 1])\n",
    "plt.grid()\n",
    "plt.xlabel(\"PC0\")\n",
    "plt.ylabel(\"PC1\")\n",
    "plt.show()"
   ]
  },
  {
   "cell_type": "code",
   "execution_count": null,
   "metadata": {},
   "outputs": [],
   "source": [
    "# PCA の固有ベクトル\n",
    "pd.DataFrame(pca.components_, columns=data, \n",
    "             index=[\"PC{}\".format(x) for x in range(len(data))])"
   ]
  },
  {
   "cell_type": "code",
   "execution_count": null,
   "metadata": {},
   "outputs": [],
   "source": [
    "# 固有ベクトルを棒グラフで表示\n",
    "centers = pd.DataFrame(pca.components_, columns=data)\n",
    "f, axes = plt.subplots(len(data), 1, sharex=True, figsize=(10,10))\n",
    "for i, ax in enumerate(axes):\n",
    "    center = centers.loc[i, :]\n",
    "    maxPC = 1.1 * np.max(np.max(np.abs(center)))\n",
    "    center.plot.bar(ax=ax)\n",
    "    ax.axhline(color='#cccccc')\n",
    "    ax.set_ylabel(f'PC{i}')\n",
    "    ax.set_ylim(-maxPC, maxPC)"
   ]
  },
  {
   "cell_type": "code",
   "execution_count": null,
   "metadata": {},
   "outputs": [],
   "source": [
    "# 第一主成分と第二主成分における観測変数をプロット\n",
    "plt.figure(figsize=(6, 6))\n",
    "origin =(0,0)\n",
    "for x, y, name in zip(pca.components_[0], pca.components_[1], data):\n",
    "    plt.text(x, y, name)\n",
    "    plt.annotate(s='', xy=(x,y), xytext=origin,\n",
    "                 arrowprops=dict(shrink=0, width=1, headwidth=8, headlength=10, \n",
    "                 connectionstyle='arc3', facecolor='lightgray', edgecolor='lightgray'))\n",
    "plt.scatter(pca.components_[0], pca.components_[1], alpha=0.8)\n",
    "plt.grid()\n",
    "plt.xlabel(\"PC0\")\n",
    "plt.ylabel(\"PC1\")\n",
    "plt.show()"
   ]
  },
  {
   "cell_type": "code",
   "execution_count": null,
   "metadata": {},
   "outputs": [],
   "source": [
    "# 寄与率\n",
    "for i in range(len(data)):\n",
    "    print(f'PC{i} {pca.explained_variance_ratio_[i]:.06f}')"
   ]
  },
  {
   "cell_type": "code",
   "execution_count": null,
   "metadata": {},
   "outputs": [],
   "source": [
    "# 累積寄与率\n",
    "plt.plot([0] + list( np.cumsum(pca.explained_variance_ratio_)), \"-o\")\n",
    "plt.grid()\n",
    "plt.show()"
   ]
  }
 ],
 "metadata": {
  "kernelspec": {
   "display_name": "Python 3.9.7 ('venv': venv)",
   "language": "python",
   "name": "python3"
  },
  "language_info": {
   "codemirror_mode": {
    "name": "ipython",
    "version": 3
   },
   "file_extension": ".py",
   "mimetype": "text/x-python",
   "name": "python",
   "nbconvert_exporter": "python",
   "pygments_lexer": "ipython3",
   "version": "3.9.9"
  },
  "vscode": {
   "interpreter": {
    "hash": "18ef0afcf35f1452430268c7ef685ac367525865953635d3b087fb3264879c09"
   }
  }
 },
 "nbformat": 4,
 "nbformat_minor": 2
}
