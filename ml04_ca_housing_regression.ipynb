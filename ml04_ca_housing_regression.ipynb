{
 "cells": [
  {
   "cell_type": "markdown",
   "metadata": {},
   "source": [
    "* sklearnデータセットに収録されたカリフォルニアの住宅価格のデータセットで回帰モデルを学習"
   ]
  },
  {
   "cell_type": "code",
   "execution_count": null,
   "metadata": {},
   "outputs": [],
   "source": [
    "# 回帰モデル学習用のライブラリのインポート\n",
    "import pandas as pd\n",
    "import openpyxl\n",
    "import matplotlib.pyplot as plt\n",
    "from sklearn.linear_model import LinearRegression\n",
    "from sklearn.model_selection import train_test_split\n",
    "from sklearn.metrics import mean_absolute_error, mean_squared_error\n",
    "import math"
   ]
  },
  {
   "cell_type": "markdown",
   "metadata": {},
   "source": [
    "* データの内容 カルフォルニアの国勢調査ブロックごとの統計情報と住宅価格の中央値をデータ化\n",
    "  * https://www.dcc.fc.up.pt/~ltorgo/Regression/cal_housing.html\n",
    "  * https://scikit-learn.org/stable/datasets/real_world.html#california-housing-dataset\n",
    "  * 8の説明変数と応答変数\n",
    "* feature data\n",
    "  * MedInc : 対象ブロックの年収の中央値\n",
    "  * HouseAge : 建物築年数の中央値\n",
    "  * AveRooms : 平均部屋数\n",
    "  * AveBedrms : 寝室数の平均\n",
    "  * Population : 対象ブロックの人口\n",
    "  * AveOccup : 一軒に住む人数の平均\n",
    "  * Latitude : 緯度\n",
    "  * Longitude : 経度\n",
    "* target data\n",
    "  * カリフォルニア地区の国勢調査ブロックごとの住宅価格の中央値"
   ]
  },
  {
   "cell_type": "code",
   "execution_count": null,
   "metadata": {},
   "outputs": [],
   "source": [
    "# sklearnデータセットに収録されたカルフォルニアの住宅価格のデータセットをロード\n",
    "from sklearn.datasets import fetch_california_housing\n",
    "housing_data = fetch_california_housing()  # インターネットにアクセスしてダウンロード\n",
    "\n",
    "# 学習用データのデータフレームを作成\n",
    "x = pd.DataFrame(housing_data[\"data\"],columns=housing_data[\"feature_names\"])\n",
    "y = pd.DataFrame(housing_data[\"target\"],columns=[\"target\"])\n",
    "\n",
    "# データフレームの形状と説明変数の列名を表示\n",
    "print('feature shape:', x.shape, housing_data[\"feature_names\"])\n",
    "print('target shape:', y.shape)"
   ]
  },
  {
   "cell_type": "code",
   "execution_count": null,
   "metadata": {},
   "outputs": [],
   "source": [
    "## 欠損値の確認 (pandasのisnull関数を利用)\n",
    "# any(axis=0) で各列に欠損値があるかを確認\n",
    "print(x.isnull().any(axis=0))\n",
    "print(y.isnull().any(axis=0))"
   ]
  },
  {
   "cell_type": "code",
   "execution_count": null,
   "metadata": {},
   "outputs": [],
   "source": [
    "# データを学習用と検証用に分割 (test_sizeで検証データの比率を指定(0.0-1.0の間), random_stateは乱数シード)\n",
    "x_train, x_test, y_train, y_test = train_test_split(x, y, test_size=0.25, random_state=1)\n",
    "print(len(x_train), len(x_test), len(y_train), len(y_test)) # それぞれのデータ数を確認"
   ]
  },
  {
   "cell_type": "code",
   "execution_count": null,
   "metadata": {},
   "outputs": [],
   "source": [
    "# 学習データ(説明変数と応答変数)の相関行列を確認\n",
    "train = pd.concat([x_train, y_train],axis=1,sort=False)\n",
    "train.corr()"
   ]
  },
  {
   "cell_type": "code",
   "execution_count": null,
   "metadata": {},
   "outputs": [],
   "source": [
    "import seaborn as sns\n",
    "# 学習用データのペアプロットを表示\n",
    "sns.pairplot(train)\n",
    "plt.show()"
   ]
  },
  {
   "cell_type": "code",
   "execution_count": null,
   "metadata": {},
   "outputs": [],
   "source": [
    "# 学習用データのヒートマップを表示\n",
    "plt.rcParams['figure.figsize'] = (15.0, 15.0)\n",
    "sns.heatmap(train.corr(), square=True, annot=True, cmap='coolwarm')\n",
    "plt.show()"
   ]
  },
  {
   "cell_type": "code",
   "execution_count": null,
   "metadata": {},
   "outputs": [],
   "source": [
    "# 独立変数間の分散拡大要因を確認 (データサイエンス基礎 配布資料(第8回) 参照)\n",
    "from statsmodels.stats.outliers_influence import variance_inflation_factor as vif\n",
    "import statsmodels.api as sm\n",
    "\n",
    "sm_model = sm.OLS(y_train, x_train)\n",
    "result = sm_model.fit()\n",
    "# print (result.summary())\n",
    "num_cols = sm_model.exog.shape[1] # 説明変数の列数\n",
    "vifs = [vif(sm_model.exog, i) for i in range(0, num_cols)]\n",
    "print(pd.DataFrame(vifs, index=sm_model.exog_names, columns=['VIF']))"
   ]
  },
  {
   "cell_type": "code",
   "execution_count": null,
   "metadata": {},
   "outputs": [],
   "source": [
    "# 回帰モデルを作成\n",
    "model = LinearRegression()\n",
    "\n",
    "# 回帰モデルを学習用データで学習\n",
    "model.fit(x_train, y_train)\n",
    "\n",
    "## 検証用データを利用してモデルを評価\n",
    "# 学習したモデルを使い、検証用データから応答変数を予測\n",
    "pred = model.predict(x_test)\n",
    "\n",
    "# 平均絶対誤差、平均二乗誤差、決定係数を計算\n",
    "print('平均絶対誤差', mean_absolute_error(y_pred=pred, y_true=y_test))\n",
    "print('平均二乗誤差', mean_squared_error(y_pred=pred, y_true=y_test))\n",
    "print('平均平方二乗誤差', math.sqrt(mean_squared_error(y_pred=pred, y_true=y_test)))\n",
    "print('決定係数', model.score(x_test, y_test))\n",
    "print('(参考) 学習データに対する決定係数', model.score(x_train, y_train))"
   ]
  },
  {
   "cell_type": "code",
   "execution_count": null,
   "metadata": {},
   "outputs": [],
   "source": [
    "# sklearn の RFECV を使って変数を選択する\n",
    "# RFECV : クロスバリデーションを行いながら説明変数の除外を実施\n",
    "from sklearn.feature_selection import RFECV\n",
    "import sklearn\n",
    "rfecv = RFECV(estimator=LinearRegression(), cv=10, scoring=\"r2\")\n",
    "rfecv.fit(x_train.values, y_train)\n",
    "\n",
    "# 選択された説明変数\n",
    "print('all: ', x_train.columns.values)\n",
    "print('selected:', x_train.columns[rfecv.support_].values)\n",
    "\n",
    "# 選択された説明変数のデータフレームを作成\n",
    "x_train_mod = x_train[x_train.columns[rfecv.support_]]\n",
    "x_test_mod = x_test[x_test.columns[rfecv.support_]]"
   ]
  },
  {
   "cell_type": "code",
   "execution_count": null,
   "metadata": {},
   "outputs": [],
   "source": [
    "# 修正版の回帰モデルを作成\n",
    "model_mod = LinearRegression()\n",
    "\n",
    "# 修正版の回帰モデルを変数選択後の学習用データで学習\n",
    "model_mod.fit(x_train_mod, y_train)\n",
    "\n",
    "## 検証用データを利用してモデルを評価\n",
    "# 学習したモデルを使い、検証用データから応答変数を予測\n",
    "pred = model_mod.predict(x_test_mod)\n",
    "\n",
    "# 平均絶対誤差、平均二乗誤差、決定係数を計算\n",
    "print('平均絶対誤差', mean_absolute_error(y_pred=pred, y_true=y_test))\n",
    "print('平均二乗誤差', mean_squared_error(y_pred=pred, y_true=y_test))\n",
    "print('平均平方二乗誤差', math.sqrt(mean_squared_error(y_pred=pred, y_true=y_test)))\n",
    "print('決定係数', model_mod.score(x_test_mod, y_test))\n",
    "print('(参考) 学習データに対する決定係数', model_mod.score(x_train_mod, y_train))"
   ]
  },
  {
   "cell_type": "code",
   "execution_count": null,
   "metadata": {},
   "outputs": [],
   "source": [
    "sm_model = sm.OLS(y_train, x_train_mod)\n",
    "result = sm_model.fit()\n",
    "# print (result.summary())\n",
    "num_cols = sm_model.exog.shape[1] # 説明変数の列数\n",
    "vifs = [vif(sm_model.exog, i) for i in range(0, num_cols)]\n",
    "print(pd.DataFrame(vifs, index=sm_model.exog_names, columns=['VIF']))"
   ]
  }
 ],
 "metadata": {
  "kernelspec": {
   "display_name": "Python 3.9.7 ('venv': venv)",
   "language": "python",
   "name": "python3"
  },
  "language_info": {
   "codemirror_mode": {
    "name": "ipython",
    "version": 3
   },
   "file_extension": ".py",
   "mimetype": "text/x-python",
   "name": "python",
   "nbconvert_exporter": "python",
   "pygments_lexer": "ipython3",
   "version": "3.9.9"
  },
  "orig_nbformat": 4,
  "vscode": {
   "interpreter": {
    "hash": "18ef0afcf35f1452430268c7ef685ac367525865953635d3b087fb3264879c09"
   }
  }
 },
 "nbformat": 4,
 "nbformat_minor": 2
}
