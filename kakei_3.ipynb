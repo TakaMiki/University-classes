{
 "cells": [
  {
   "cell_type": "code",
   "execution_count": null,
   "metadata": {},
   "outputs": [],
   "source": [
    "# Google Colab で実行環境とファイルを準備\n",
    "!pip install openpyxl\n",
    "!pip install japanize_matplotlib\n",
    "!wget https://github.com/KHiraGit/sudspg_ds/raw/main/s11.xlsx -O s11.xlsx"
   ]
  },
  {
   "cell_type": "code",
   "execution_count": null,
   "metadata": {},
   "outputs": [],
   "source": [
    "import os\n",
    "import sys\n",
    "import re\n",
    "import pandas as pd\n",
    "import openpyxl\n",
    "import matplotlib.pyplot as plt\n",
    "import japanize_matplotlib\n",
    "\n",
    "FILENAME = 's11.xlsx'"
   ]
  },
  {
   "cell_type": "code",
   "execution_count": null,
   "metadata": {},
   "outputs": [],
   "source": [
    "# エクセルファイルを読み込む (インデックスを指定、データに読み込まないスキップする行を指定)\n",
    "excel_df = pd.read_excel(FILENAME, sheet_name=None, \n",
    "                         index_col=10, \n",
    "                         skiprows=[0,1,2,3,4,5,6,7,9,10,11,12,13,14,15,16,17,18,19,20,21,22,23,24], \n",
    "                         skipfooter=2)\n",
    "\n",
    "# 空のデータフレームを準備し、読み込んだシートのデータを追加\n",
    "kakei_df = None\n",
    "for _key in excel_df.keys():\n",
    "    if kakei_df is None:\n",
    "        kakei_df = excel_df[_key]\n",
    "    else:\n",
    "        kakei_df = kakei_df.join(excel_df[_key], rsuffix=f'_{_key}')\n",
    "\n",
    "# (作業前) データの行数(都市数)と列数(品目数)を表示\n",
    "print('(作業前)', kakei_df.shape)\n",
    "\n",
    "# データの記録されていない 'Unamed..' の列を削除\n",
    "_drop_list = []\n",
    "for _column in kakei_df.columns:\n",
    "    if re.search('^Unnamed', _column):\n",
    "        _drop_list.append(_column)\n",
    "\n",
    "kakei_df = kakei_df.drop(_drop_list, axis=1)\n",
    "\n",
    "# (作業後) データの行数(都市数)と列数(品目数)を表示\n",
    "print('(作業後)', kakei_df.shape)"
   ]
  },
  {
   "cell_type": "code",
   "execution_count": null,
   "metadata": {},
   "outputs": [],
   "source": [
    "# 品目「りんご」のデータを抽出して降順にソート\n",
    "apple_df = kakei_df['りんご']\n",
    "sorted_apple_df = apple_df.sort_values(ascending=False)\n",
    "\n",
    "# ソートした結果の上位5位までを表示\n",
    "rank = 1\n",
    "for _index, _value in sorted_apple_df.items():\n",
    "    print(rank, _index, _value)\n",
    "    rank = rank + 1\n",
    "    if rank > 5: # 5位までを表示したら forループから脱出\n",
    "        break\n",
    "\n",
    "# 抽出したデータの棒グラフを作成\n",
    "\n",
    "apple_df.plot.bar('りんご', figsize=(10, 5))\n",
    "plt.show()"
   ]
  },
  {
   "cell_type": "code",
   "execution_count": null,
   "metadata": {},
   "outputs": [],
   "source": [
    "# 各品目のデータを降順にソートし、上位5位までに入っていたら表示\n",
    "target = 'さいたま市'\n",
    "for item_name in kakei_df.columns:\n",
    "    item_df = kakei_df[item_name]\n",
    "    sorted_item_df = item_df.sort_values(ascending=False)\n",
    "\n",
    "    # ソートした結果の上位5位までを表示\n",
    "    rank = 1\n",
    "    for _index, _value in sorted_item_df.items():\n",
    "        if re.search(target, _index):\n",
    "            print(item_name, f'{rank}位', _value)\n",
    "            break\n",
    "        rank = rank + 1\n",
    "        if rank > 5: # 5位までを表示したら forループから脱出\n",
    "            break"
   ]
  },
  {
   "cell_type": "code",
   "execution_count": null,
   "metadata": {},
   "outputs": [],
   "source": [
    "# さいたま市と東京都区部を比較し、さいたま市が大きく上回る品目を表示\n",
    "target = 'さいたま市'\n",
    "competeter = '東京都区部'\n",
    "for item_name in kakei_df.columns:\n",
    "    item_df = kakei_df[item_name]\n",
    "    sorted_item_df = item_df.sort_values(ascending=False)\n",
    "\n",
    "    # さいたま市と東京都区部を順位を調査\n",
    "    rank = 1\n",
    "    target_rank = 0\n",
    "    target_value = 0\n",
    "    competeter_rank = 0\n",
    "    competeter_value = 0\n",
    "    for _index, _value in sorted_item_df.items():\n",
    "        if re.search(target, _index):\n",
    "            target_rank = rank\n",
    "            target_value = _value\n",
    "        if re.search(competeter, _index):\n",
    "            competeter_rank = rank\n",
    "            competeter_value = _value\n",
    "        rank = rank + 1\n",
    "    \n",
    "    # さいたま市が順位で20位以上上回ったら表示\n",
    "    if target_rank + 20 <= competeter_rank:\n",
    "        print(item_name, target, f'{target_rank}位 ({target_value})', \\\n",
    "              competeter, f'{competeter_rank}位 ({competeter_value})')"
   ]
  },
  {
   "cell_type": "code",
   "execution_count": null,
   "metadata": {},
   "outputs": [],
   "source": [
    "# 新たな指数の開発 （例 （米）/(パン）＝（米好き指数）） Top5 を表示\n",
    "new_index_df = kakei_df['米'] / kakei_df['パン']\n",
    "sorted_new_index_df = new_index_df.sort_values(ascending=False)\n",
    "\n",
    "# ソートした結果の上位5位までを表示\n",
    "rank = 1\n",
    "for _index, _value in sorted_new_index_df.items():\n",
    "    print(rank, _index, _value)\n",
    "    rank = rank + 1\n",
    "    if rank > 5: # 5位までを表示したら forループから脱出\n",
    "        break"
   ]
  }
 ],
 "metadata": {
  "kernelspec": {
   "display_name": "venv",
   "language": "python",
   "name": "python3"
  },
  "language_info": {
   "codemirror_mode": {
    "name": "ipython",
    "version": 3
   },
   "file_extension": ".py",
   "mimetype": "text/x-python",
   "name": "python",
   "nbconvert_exporter": "python",
   "pygments_lexer": "ipython3",
   "version": "3.10.11"
  }
 },
 "nbformat": 4,
 "nbformat_minor": 2
}
