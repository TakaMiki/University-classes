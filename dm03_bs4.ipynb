{
 "cells": [
  {
   "attachments": {},
   "cell_type": "markdown",
   "metadata": {},
   "source": [
    "* データマイニング特別演習 第３回 (DM03) データの収集とデータの構造\n",
    "  * 静的Webページからの情報収集 (2)\n",
    "    * pythonのライブラリ(requests, beautifulsoup4)を使ったデータ収集"
   ]
  },
  {
   "cell_type": "code",
   "execution_count": null,
   "metadata": {},
   "outputs": [],
   "source": [
    "# ライブラリを pip コマンドを使ってインストール\n",
    "#!pip install requests  \n",
    "#!pip install beautifulsoup4"
   ]
  },
  {
   "cell_type": "code",
   "execution_count": null,
   "metadata": {},
   "outputs": [],
   "source": [
    "# ライブラリをインポート\n",
    "import requests\n",
    "from bs4 import BeautifulSoup"
   ]
  },
  {
   "cell_type": "code",
   "execution_count": null,
   "metadata": {},
   "outputs": [],
   "source": [
    "# URLで指定したWebページを取得し、その内容を表示\n",
    "url = 'http://www.saitama-u.ac.jp/rikogaku/'\n",
    "res = requests.get(url)\n",
    "print(res.text)"
   ]
  },
  {
   "cell_type": "code",
   "execution_count": null,
   "metadata": {},
   "outputs": [],
   "source": [
    "# BeautifulSoup を使ってHTMLを解析\n",
    "soup = BeautifulSoup(res.text, \"html.parser\")\n",
    "\n",
    "# 所定の箇所を selector で指定して情報を取得\n",
    "elems = soup.select('#wrap > main > div.main_container > article > div > section > div > dl > dd:nth-child(2) > a')\n",
    "print(elems[0].text)  # テキスト部分を表示\n",
    "print(elems[0].attrs)   # リンク先等の情報を表示"
   ]
  }
 ],
 "metadata": {
  "kernelspec": {
   "display_name": "venv",
   "language": "python",
   "name": "python3"
  },
  "language_info": {
   "codemirror_mode": {
    "name": "ipython",
    "version": 3
   },
   "file_extension": ".py",
   "mimetype": "text/x-python",
   "name": "python",
   "nbconvert_exporter": "python",
   "pygments_lexer": "ipython3",
   "version": "3.9.9"
  },
  "orig_nbformat": 4
 },
 "nbformat": 4,
 "nbformat_minor": 2
}
