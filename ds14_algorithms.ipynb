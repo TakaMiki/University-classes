{
 "cells": [
  {
   "cell_type": "markdown",
   "metadata": {},
   "source": [
    "データサイエンス基礎 第14回 アルゴリズムとフローチャート\n",
    "\n",
    "* なお、Visual Stuido Code でこのノートブックを実行すると、python の input が動作しないので、直接、変数に値を設定しています"
   ]
  },
  {
   "cell_type": "markdown",
   "metadata": {},
   "source": [
    "問題1「10と5という2つの数が与えられたとき、その和を求める」"
   ]
  },
  {
   "cell_type": "code",
   "execution_count": null,
   "metadata": {},
   "outputs": [],
   "source": [
    "# アルゴリズム1：\n",
    "# 手順1：10+5 を計算して、その計算結果をzに代入\n",
    "z = \n",
    "\n",
    "# 手順2：zを求めるべき結果として出力して終了\n",
    "print(z)"
   ]
  },
  {
   "cell_type": "code",
   "execution_count": null,
   "metadata": {},
   "outputs": [],
   "source": [
    "# アルゴリズム1改：\n",
    "# 手順1：15 を出力してアルゴリズムを終了\n",
    "print(15)"
   ]
  },
  {
   "cell_type": "markdown",
   "metadata": {},
   "source": [
    "問題2：「2つの数が与えられたとき、その和を求める」"
   ]
  },
  {
   "cell_type": "code",
   "execution_count": null,
   "metadata": {},
   "outputs": [],
   "source": [
    "# アルゴリズム2：\n",
    "# 手順1：1つの目の数を受け取りxに代入 (受け取る代わりに値を設定)\n",
    "# x = int(input('x= '))\n",
    "x = 5\n",
    "\n",
    "# 手順2：2つの目の数を受け取りyに代入 (受け取る代わりに値を設定)\n",
    "# y = int(input('y= '))\n",
    "y = 10 \n",
    "\n",
    "# 手順3：x+y を計算して、その計算結果をzに代入\n",
    "z = \n",
    "\n",
    "# 手順4：zを出力してアルゴリズムを終了\n",
    "print(z)"
   ]
  },
  {
   "cell_type": "markdown",
   "metadata": {},
   "source": [
    "問題3：「サイコロを5回振って、出た目の和（合計）を求める」"
   ]
  },
  {
   "cell_type": "code",
   "execution_count": null,
   "metadata": {},
   "outputs": [],
   "source": [
    "# アルゴリズム3：\n",
    "# 手順1：サイコロを振って、出た目をzに代入\n",
    "import random\n",
    "z = random.randint(1, 6)\n",
    "\n",
    "# 手順2：サイコロを振って、出た目をzに加算\n",
    "z = z + random.randint(1, 6)\n",
    "\n",
    "# 手順3：サイコロを振って、出た目をzに加算\n",
    "z = \n",
    "\n",
    "# 手順4：サイコロを振って、出た目をzに加算\n",
    "z = \n",
    "\n",
    "# 手順5：サイコロを振って、出た目をzに加算\n",
    "z = \n",
    "\n",
    "# 手順6：zを出力してアルゴリズムを終了\n",
    "print(z)"
   ]
  },
  {
   "cell_type": "code",
   "execution_count": null,
   "metadata": {},
   "outputs": [],
   "source": [
    "# アルゴリズム3改：\n",
    "# 手順1：z=0、c=0とする\n",
    "import random\n",
    "z = 0\n",
    "c = 0\n",
    "\n",
    "# 手順4の「手順2」に戻るを while ループで代用\n",
    "while(True):\n",
    "    # 手順2：サイコロを振って、出た目をzに加算\n",
    "    z = z + random.randint(1, 6)\n",
    "\n",
    "    # 手順3：cの値を1加算\n",
    "    c = \n",
    "\n",
    "    # 手順4：cが5ならzを出力してアルゴリズムを終了\n",
    "    if :\n",
    "        print(z)\n",
    "        break # 終了の代わりに、ループを脱出\n",
    "\n",
    "    # そうでなければ、手順2に戻る\n",
    "    pass \n"
   ]
  },
  {
   "cell_type": "markdown",
   "metadata": {},
   "source": [
    "問題4：「偶数の目が出るまでサイコロを振って、出た目の総和を出力する」"
   ]
  },
  {
   "cell_type": "code",
   "execution_count": null,
   "metadata": {},
   "outputs": [],
   "source": [
    "# アルゴリズム4：\n",
    "# 手順1：z=0とする\n",
    "import random\n",
    "z = 0\n",
    "\n",
    "# 手順3の「手順2」に戻るを while ループで代用\n",
    "while(True):\n",
    "    # 手順2：サイコロを振り出た目をxに代入し、xをzに加算\n",
    "    x = random.randint(1, 6)\n",
    "    z = \n",
    "\n",
    "    # 手順3：xが偶数ならzを出力してアルゴリズムを終了\n",
    "    if :\n",
    "        print(z)       \n",
    "        break\n",
    "\n",
    "    # そうでなければ、手順2に戻る\n",
    "    pass\n"
   ]
  },
  {
   "cell_type": "markdown",
   "metadata": {},
   "source": [
    "問題5：「1つの整数が与えられたとき、その数が2,3,6のいずれかの倍数か判定する」"
   ]
  },
  {
   "cell_type": "code",
   "execution_count": null,
   "metadata": {},
   "outputs": [],
   "source": [
    "# アルゴリズム5：\n",
    "# 手順1：整数を入力を受付け、xに代入\n",
    "# x = int(intput('x= '))\n",
    "x = 9\n",
    "\n",
    "# 手順2：xが2で割り切れれば、手順3へ。そうでなければ手順4へ\n",
    "if :\n",
    "\n",
    "    # 手順3：xが3で割り切れれば、 「xは6の倍数」と出力して終了\n",
    "    if :\n",
    "        print(f'x ({x}) は 6の倍数')\n",
    "    # そうでなければ「xは2の倍数」と出力して終了\n",
    "    else:\n",
    "        print(f'x ({x}) は 2の倍数')\n",
    "# 手順4：xが3で割り切れれば、「xは3の倍数」と出力して終了\n",
    "elif :\n",
    "    print(f'x ({x}) は 3の倍数')\n",
    "\n",
    "# そうでなければ「xは2,3,6の倍数ではない」と出力して終了\n",
    "else:\n",
    "    print(f'x ({x}) は 2,3,6の倍数ではない')"
   ]
  },
  {
   "cell_type": "markdown",
   "metadata": {},
   "source": [
    "リスト探索\n",
    "\n",
    "* python のリストの場合、長さ n のリストでは、先頭を0番目、末尾が n-1 番目としてプログラムを作成する"
   ]
  },
  {
   "cell_type": "code",
   "execution_count": null,
   "metadata": {},
   "outputs": [],
   "source": [
    "# リスト探索 -　線形探索\n",
    "\n",
    "# リストを準備\n",
    "list = [3, 2, 7, 5, 6, 4, 1]\n",
    "n = len(list)  # リストの要素数\n",
    "\n",
    "# 手順1: xを入力\n",
    "x = 7\n",
    "\n",
    "# 手順2: i に 0 を代入\n",
    "i = 0\n",
    "\n",
    "## 手順5で「手順3」へ戻るを while ループで代用\n",
    "while(True):\n",
    "    # 手順3: 配列のi番目の数と x を比較し、一致するならば、x を発見したと報告して終了\n",
    "    if list[i] == x:\n",
    "        print(f'x ({x}) を発見')\n",
    "        break\n",
    "\n",
    "    # 手順4: xを入力\n",
    "    i = \n",
    "\n",
    "    # 手順5: i が n より小さい場合、手順3へ戻る、そうでなければ手順6へ\n",
    "    if :\n",
    "        pass\n",
    "\n",
    "    # 手順6: xを発見できなかったと報告して終了\n",
    "    else:\n",
    "        print(f'x ({x}) を発見できなかった')\n",
    "        break"
   ]
  },
  {
   "cell_type": "code",
   "execution_count": null,
   "metadata": {},
   "outputs": [],
   "source": [
    "# リスト探索 -　二分探索\n",
    "\n",
    "# リストを準備 (リスト中の値は昇順になっていること)\n",
    "list = [1, 2, 3, 5, 7, 8, 9]\n",
    "n = len(list)  # リストの要素数\n",
    "\n",
    "# 手順1: xを入力\n",
    "x = 7\n",
    "\n",
    "# 手順2: left に 0 , right に n -1 を代入\n",
    "left = 0\n",
    "right = n -1\n",
    "\n",
    "## 手順7で「手順3」へ戻るを while ループで代用\n",
    "while(True):\n",
    "    # 手順3: left > right ならば、x を発見できなかったと報告して終了\n",
    "    if :\n",
    "        print(f'x ({x}) を発見できなかった')\n",
    "        break\n",
    "\n",
    "    # 手順4: mid = int((left + right) / 2)\n",
    "    mid = int((left + right) / 2)\n",
    "\n",
    "    # 手順5: リストの mid番目の値を M で表す。\n",
    "    #        Mとxを比較し、一致したら xを発見したと報告して終了\n",
    "    M = list[mid]\n",
    "    if M == x:\n",
    "        print(f'x ({x}) を発見')\n",
    "        break\n",
    "\n",
    "    # 手順6: M < x ならば left = mid + 1, M > x ならば　right = mid - 1 とする\n",
    "    if :\n",
    "        left = mid + 1\n",
    "    if :\n",
    "        right = mid - 1\n",
    "\n",
    "    # 手順7: 手順3に戻る\n",
    "    pass"
   ]
  },
  {
   "cell_type": "code",
   "execution_count": null,
   "metadata": {},
   "outputs": [],
   "source": []
  }
 ],
 "metadata": {
  "kernelspec": {
   "display_name": "Python 3.9.7 ('venv': venv)",
   "language": "python",
   "name": "python3"
  },
  "language_info": {
   "codemirror_mode": {
    "name": "ipython",
    "version": 3
   },
   "file_extension": ".py",
   "mimetype": "text/x-python",
   "name": "python",
   "nbconvert_exporter": "python",
   "pygments_lexer": "ipython3",
   "version": "3.9.9"
  },
  "orig_nbformat": 4,
  "vscode": {
   "interpreter": {
    "hash": "18ef0afcf35f1452430268c7ef685ac367525865953635d3b087fb3264879c09"
   }
  }
 },
 "nbformat": 4,
 "nbformat_minor": 2
}
