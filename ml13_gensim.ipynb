{
 "cells": [
  {
   "attachments": {},
   "cell_type": "markdown",
   "metadata": {},
   "source": [
    "* 機械学習特論 第13回 自然言語処理と知識表現\n",
    "* 単語ベクトルの実験\n",
    "  * サンプルコードは https://github.com/RaRe-Technologies/gensim-data を引用"
   ]
  },
  {
   "cell_type": "code",
   "execution_count": null,
   "metadata": {},
   "outputs": [],
   "source": [
    "# google colab の場合は以下のコメントアウトを外して実行する\n",
    "# !pip install gensim"
   ]
  },
  {
   "cell_type": "code",
   "execution_count": 1,
   "metadata": {},
   "outputs": [
    {
     "name": "stdout",
     "output_type": "stream",
     "text": [
      "4.3.0\n"
     ]
    }
   ],
   "source": [
    "# ライブラリをインポート\n",
    "import gensim\n",
    "print(gensim.__version__)"
   ]
  },
  {
   "cell_type": "code",
   "execution_count": 5,
   "metadata": {},
   "outputs": [],
   "source": [
    "# 学習済みのモデルをダウンロード\n",
    "# https://nlp.stanford.edu/pubs/glove.pdf\n",
    "import gensim.downloader as api\n",
    "wv = api.load('glove-wiki-gigaword-50') # Wikipedia 2014 + Gigaword 5 (6B tokens, uncased)"
   ]
  },
  {
   "cell_type": "code",
   "execution_count": 20,
   "metadata": {},
   "outputs": [
    {
     "name": "stdout",
     "output_type": "stream",
     "text": [
      "most_similar(\"car\") [('truck', 0.9208586812019348), ('cars', 0.8870189189910889), ('vehicle', 0.8833683133125305), ('driver', 0.8464019298553467), ('driving', 0.8384190201759338), ('bus', 0.8210511803627014), ('vehicles', 0.8174992799758911), ('parked', 0.7902189493179321), ('motorcycle', 0.7866503596305847), ('taxi', 0.7833929061889648)]\n",
      "similarity(car,minivan) 0.722\n",
      "similarity(car,bicycle) 0.756\n",
      "similarity(car,airplane) 0.741\n",
      "queen-woman+man= [('king', 0.8612024784088135), ('prince', 0.8110411167144775), ('crown', 0.7789079546928406), ('royal', 0.7496288418769836), ('knight', 0.7449894547462463), ('coronation', 0.7430911660194397), ('lady', 0.7329778075218201), ('lord', 0.7321770787239075), ('great', 0.7172718048095703), ('name', 0.7124994397163391)]\n"
     ]
    }
   ],
   "source": [
    "# car に近い単語\n",
    "print('most_similar(\"car\")', wv.most_similar(\"car\"))\n",
    "# 2語の類似度を計算\n",
    "pairs = [\n",
    "    ('car', 'minivan'),\n",
    "    ('car', 'bicycle'),\n",
    "    ('car', 'airplane'),\n",
    "]\n",
    "for w1, w2 in pairs:\n",
    "    print(f'similarity({w1},{w2}) {wv.similarity(w1, w2):.3f}')\n",
    "# queen-woman+man を計算\n",
    "print('queen-woman+man=', wv.most_similar(positive=['queen', 'man'], negative=['woman']))"
   ]
  }
 ],
 "metadata": {
  "kernelspec": {
   "display_name": "venv",
   "language": "python",
   "name": "python3"
  },
  "language_info": {
   "codemirror_mode": {
    "name": "ipython",
    "version": 3
   },
   "file_extension": ".py",
   "mimetype": "text/x-python",
   "name": "python",
   "nbconvert_exporter": "python",
   "pygments_lexer": "ipython3",
   "version": "3.9.7 (tags/v3.9.7:1016ef3, Aug 30 2021, 20:19:38) [MSC v.1929 64 bit (AMD64)]"
  },
  "orig_nbformat": 4,
  "vscode": {
   "interpreter": {
    "hash": "18ef0afcf35f1452430268c7ef685ac367525865953635d3b087fb3264879c09"
   }
  }
 },
 "nbformat": 4,
 "nbformat_minor": 2
}
